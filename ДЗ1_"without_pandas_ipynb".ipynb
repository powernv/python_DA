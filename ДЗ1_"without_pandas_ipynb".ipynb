{
  "cells": [
    {
      "cell_type": "markdown",
      "metadata": {
        "id": "view-in-github",
        "colab_type": "text"
      },
      "source": [
        "<a href=\"https://colab.research.google.com/github/powernv/python_DA/blob/main/%D0%94%D0%971_%22without_pandas_ipynb%22.ipynb\" target=\"_parent\"><img src=\"https://colab.research.google.com/assets/colab-badge.svg\" alt=\"Open In Colab\"/></a>"
      ]
    },
    {
      "cell_type": "markdown",
      "source": [
        "[![Open In Colab](https://colab.research.google.com/assets/colab-badge.svg)](https://colab.research.google.com/github/da-python/python-for-data-analytics/blob/main/Lesson1/hometask/without_pandas.ipynb)"
      ],
      "metadata": {
        "collapsed": false,
        "pycharm": {
          "name": "#%% md\n"
        },
        "id": "95N5Otop-PC_"
      }
    },
    {
      "cell_type": "code",
      "execution_count": null,
      "outputs": [
        {
          "data": {
            "image/jpeg": "[encoded data removed]",
            "text/html": [
              "\n",
              "        <iframe\n",
              "            width=\"800\"\n",
              "            height=\"300\"\n",
              "            src=\"https://www.youtube.com/embed/lyDLAutA88s\"\n",
              "            frameborder=\"0\"\n",
              "            allowfullscreen\n",
              "        ></iframe>\n",
              "        "
            ],
            "text/plain": [
              "<IPython.lib.display.YouTubeVideo at 0x10495abb0>"
            ]
          },
          "execution_count": 2,
          "metadata": {},
          "output_type": "execute_result"
        }
      ],
      "source": [
        "from IPython.display import YouTubeVideo\n",
        "YouTubeVideo('lyDLAutA88s', width=800, height=300)"
      ],
      "metadata": {
        "pycharm": {
          "name": "#%%\n"
        },
        "id": "QfSHZNof-PDA",
        "outputId": "ec9b8905-53b9-42b0-89d6-6dc253a3325c"
      }
    },
    {
      "cell_type": "code",
      "execution_count": null,
      "outputs": [],
      "source": [
        ""
      ],
      "metadata": {
        "pycharm": {
          "name": "#%%\n"
        },
        "id": "v7tEUPxX-PDB"
      }
    },
    {
      "cell_type": "code",
      "execution_count": null,
      "metadata": {
        "pycharm": {
          "name": "#%%\n"
        },
        "id": "6LqY-IXc-PDB"
      },
      "outputs": [],
      "source": [
        "# 1. Посмотрите видео Дэвида Бизли про встроенные инструменты Python\n",
        "# 2. Попробуйте используя встроенные инструменты Python проанализировать таблицу из файла \"Vacancy.csv\"\n",
        "# 3. Попробуйте ответить на вопросы:\n",
        "# Сколько вакансий, которые вам нравятся?\n",
        "# За какие периоды эти вакансии?\n",
        "# Сколько вакансий с такими позициями, на которых вы работаете?\n",
        "# Сколько вакансий для аналитика данных?\n",
        "# Сколько вакансий для аналитика данных с использованием Python?\n",
        "\n",
        "# В задании важно не использовать pandas и numpy, а встроенные инструменты python\n",
        "# Counter, CSV, defaultdict, sorted"
      ]
    },
    {
      "cell_type": "code",
      "execution_count": 1,
      "outputs": [
        {
          "output_type": "stream",
          "name": "stdout",
          "text": [
            "Looking in indexes: https://pypi.org/simple, https://us-python.pkg.dev/colab-wheels/public/simple/\n",
            "Collecting wget\n",
            "  Downloading wget-3.2.zip (10 kB)\n",
            "Building wheels for collected packages: wget\n",
            "  Building wheel for wget (setup.py) ... \u001b[?25l\u001b[?25hdone\n",
            "  Created wheel for wget: filename=wget-3.2-py3-none-any.whl size=9675 sha256=5c5c23e3cbd64d61964fcc9a53faab9b91e7d83758166809f568bd642c33ce8f\n",
            "  Stored in directory: /root/.cache/pip/wheels/a1/b6/7c/0e63e34eb06634181c63adacca38b79ff8f35c37e3c13e3c02\n",
            "Successfully built wget\n",
            "Installing collected packages: wget\n",
            "Successfully installed wget-3.2\n",
            "--2022-07-28 20:07:50--  https://raw.githubusercontent.com/da-python/python-for-data-analytics/main/Lesson1/hometask/vacancy.csv.zip\n",
            "Resolving raw.githubusercontent.com (raw.githubusercontent.com)... 185.199.108.133, 185.199.109.133, 185.199.110.133, ...\n",
            "Connecting to raw.githubusercontent.com (raw.githubusercontent.com)|185.199.108.133|:443... connected.\n",
            "HTTP request sent, awaiting response... 200 OK\n",
            "Length: 3029239 (2.9M) [application/zip]\n",
            "Saving to: ‘vacancy.csv.zip’\n",
            "\n",
            "vacancy.csv.zip     100%[===================>]   2.89M  --.-KB/s    in 0.07s   \n",
            "\n",
            "2022-07-28 20:07:51 (42.9 MB/s) - ‘vacancy.csv.zip’ saved [3029239/3029239]\n",
            "\n",
            "Archive:  vacancy.csv.zip\n",
            "  inflating: vacancy.csv             \n"
          ]
        }
      ],
      "source": [
        "# Colab Version\n",
        "!pip install wget\n",
        "!wget https://raw.githubusercontent.com/da-python/python-for-data-analytics/main/Lesson1/hometask/vacancy.csv.zip\n",
        "!unzip vacancy.csv.zip"
      ],
      "metadata": {
        "pycharm": {
          "name": "#%%\n"
        },
        "id": "DQkS-RwF-PDC",
        "colab": {
          "base_uri": "https://localhost:8080/"
        },
        "outputId": "bf07ac72-582c-4945-ccb2-a55aaf724d7b"
      }
    },
    {
      "cell_type": "code",
      "execution_count": 2,
      "metadata": {
        "pycharm": {
          "name": "#%%\n"
        },
        "id": "4ZKM-uU3-PDC"
      },
      "outputs": [],
      "source": [
        "import csv\n",
        "from collections import Counter, defaultdict"
      ]
    },
    {
      "cell_type": "code",
      "execution_count": 3,
      "metadata": {
        "pycharm": {
          "name": "#%%\n"
        },
        "id": "Z8sgbB5h-PDD"
      },
      "outputs": [],
      "source": [
        "file_path = 'vacancy.csv'\n",
        "vacs = list(csv.DictReader(open(file_path)))"
      ]
    },
    {
      "cell_type": "code",
      "source": [
        "vacs[0]"
      ],
      "metadata": {
        "colab": {
          "base_uri": "https://localhost:8080/"
        },
        "id": "CcANc6of-cnd",
        "outputId": "32ecec57-ab45-42ab-8861-5374295da525"
      },
      "execution_count": 4,
      "outputs": [
        {
          "output_type": "execute_result",
          "data": {
            "text/plain": [
              "OrderedDict([('id', '383479'),\n",
              "             ('created_at', '2021-03-14 09:39:21.854462'),\n",
              "             ('updated_at', '2021-03-14 09:39:21.854584'),\n",
              "             ('vacid', '1474941'),\n",
              "             ('vactitle', 'Senior java-разработчик (в команду Онбординга)'),\n",
              "             ('vacdescription',\n",
              "              ' Работа у нас — это:команда профессионалов, готовых поддержать ваши инициативы;мощное железо, дополнительные мониторы и всё, что нужно для продуктивной работы;обучение за счёт компании;гибкий графиккрасивый и комфортный офис  г. Санкт-Петербург, м. Ладожская  пл. Карла Фаберже 8 ВДМС;прозрачная система бонусов и премий, достойная зарплата — размер обсудим на собеседовании.Информация о проекте:Наша команда делает новые экспериментальные фичи для СБОЛа.Сейчас мы разрабатываем систему, с помощью которой разные команды Сбера смогут создавать квесты для мобильного приложения.Также мы будем разрабатывать внутреннюю платформу для продуктовых экспериментов. Описание команды:2-pizza team: сейчас у нас работают разработчики iOS и Android, продакт и аналитик. К команде в ближайшее время подключится тестировщик и еще один аналитик. Мы ожидаем, что Вы:Работали раннее в продуктовой agile-команде;Имеете опыт работы больше 4 лет с Java и ее экосистемой;Владеете Spring: Core, MVC, Boot, Cloud;Работали с реляционными БД;Трепетно относитесь к тестовому покрытию;Будете относиться с заботой к нашим пользователям, продукту и команде. Будет здорово, если вы:Умеете готовить ansible;Работали с k8s;Использовали kafka;Умеете оптимизировать SQL-запросы. Вам предстоит:отвечать за качество технических решений;придумывать реализацию для безумных идей наших продактов;разрабатывать сервисы, интегрироваться с множеством систем банка.Информация о проекте:Наша команда делает новые экспериментальные фичи для СБОЛа.Сейчас мы разрабатываем систему, с помощью которой разные команды Сбера смогут создавать квесты для мобильного приложения.Также мы будем разрабатывать внутреннюю платформу для продуктовых экспериментов. Описание команды:2-pizza team: сейчас у нас работают разработчики iOS и Android, продакт и аналитик. К команде в ближайшее время подключится тестировщик и еще один аналитик. Мы ожидаем, что Вы:Работали раннее в продуктовой agile-команде;Имеете опыт работы больше 4 лет с Java и ее экосистемой;Владеете Spring: Core, MVC, Boot, Cloud;Работали с реляционными БД;Трепетно относитесь к тестовому покрытию;Будете относиться с заботой к нашим пользователям, продукту и команде. Будет здорово, если вы:Умеете готовить ansible;Работали с k8s;Использовали kafka;Умеете оптимизировать SQL-запросы. Вам предстоит:отвечать за качество технических решений;придумывать реализацию для безумных идей наших продактов;разрабатывать сервисы, интегрироваться с множеством систем банка. Работа у нас — это:команда профессионалов, готовых поддержать ваши инициативы;мощное железо, дополнительные мониторы и всё, что нужно для продуктивной работы;обучение за счёт компании;гибкий графиккрасивый и комфортный офис  г. Санкт-Петербург, м. Ладожская  пл. Карла Фаберже 8 ВДМС;прозрачная система бонусов и премий, достойная зарплата — размер обсудим на собеседовании.'),\n",
              "             ('vacdate', '2021-03-15'),\n",
              "             ('vacstatus', 'new'),\n",
              "             ('vaclink',\n",
              "              'https://my.sbertalents.ru/#/job-requisition/1474941')])"
            ]
          },
          "metadata": {},
          "execution_count": 4
        }
      ]
    },
    {
      "cell_type": "code",
      "source": [
        "len(vacs)"
      ],
      "metadata": {
        "colab": {
          "base_uri": "https://localhost:8080/"
        },
        "id": "VJu5hrOu-clp",
        "outputId": "c14e3cd2-0beb-4396-de53-468b1d20503c"
      },
      "execution_count": 5,
      "outputs": [
        {
          "output_type": "execute_result",
          "data": {
            "text/plain": [
              "4002"
            ]
          },
          "metadata": {},
          "execution_count": 5
        }
      ]
    },
    {
      "cell_type": "code",
      "source": [
        "vactitles = {row ['vactitle'] for row in vacs}\n",
        "print(len(vactitles))"
      ],
      "metadata": {
        "colab": {
          "base_uri": "https://localhost:8080/"
        },
        "id": "3gwpsq_HA3Xb",
        "outputId": "efc57066-b38b-4a79-9af3-0c34b7773c07"
      },
      "execution_count": 6,
      "outputs": [
        {
          "output_type": "stream",
          "name": "stdout",
          "text": [
            "2167\n"
          ]
        }
      ]
    },
    {
      "cell_type": "code",
      "source": [
        "titles = Counter(row ['vactitle'] for row in vacs)\n",
        "top_titles = titles.most_common(15)\n",
        "top_titles"
      ],
      "metadata": {
        "colab": {
          "base_uri": "https://localhost:8080/"
        },
        "id": "3yYPillaC_As",
        "outputId": "fb6a4f22-8f8b-4345-bd8a-face912f85e3"
      },
      "execution_count": 7,
      "outputs": [
        {
          "output_type": "execute_result",
          "data": {
            "text/plain": [
              "[('Мобильный менеджер по продажам', 229),\n",
              " ('Старший менеджер по обслуживанию', 172),\n",
              " ('Специалист по прямым продажам', 164),\n",
              " ('Менеджер по продажам', 86),\n",
              " ('Системный аналитик', 62),\n",
              " ('Менеджер по работе с ключевыми клиентами малого бизнеса', 53),\n",
              " ('Java разработчик', 40),\n",
              " ('Водитель-инкассатор', 38),\n",
              " ('Старший специалист по взысканию задолженности', 38),\n",
              " ('Главный клиентский менеджер малого бизнеса', 34),\n",
              " ('Главный инженер по разработке', 25),\n",
              " ('Менеджер по продаже зарплатных проектов', 25),\n",
              " ('Java-разработчик', 24),\n",
              " ('Ведущий инженер по сопровождению', 22),\n",
              " ('Практикант', 22)]"
            ]
          },
          "metadata": {},
          "execution_count": 7
        }
      ]
    },
    {
      "cell_type": "markdown",
      "source": [
        "Сколько вакансий, которые вам нравятся?\n",
        "\n",
        "Ответ: 27"
      ],
      "metadata": {
        "id": "y-SkQ0jq50Tu"
      }
    },
    {
      "cell_type": "code",
      "source": [
        "like = [row['vactitle'] for row in vacs if 'аналитик' in row['vactitle'].lower() and 'python' in row['vacdescription'].lower() and 'sql' in row['vacdescription'].lower() and 'анализ' in row['vacdescription'].lower() and not 'системный'in row['vactitle'].lower() and not 'бизнес'in row['vactitle'].lower()]"
      ],
      "metadata": {
        "id": "ZGFAIpW757r0"
      },
      "execution_count": 8,
      "outputs": []
    },
    {
      "cell_type": "code",
      "source": [
        "len(like)"
      ],
      "metadata": {
        "colab": {
          "base_uri": "https://localhost:8080/"
        },
        "id": "uUaKojrV57pO",
        "outputId": "fbe08036-fa93-405d-8f30-9b32c80c6756"
      },
      "execution_count": 8,
      "outputs": [
        {
          "output_type": "execute_result",
          "data": {
            "text/plain": [
              "27"
            ]
          },
          "metadata": {},
          "execution_count": 8
        }
      ]
    },
    {
      "cell_type": "markdown",
      "source": [
        "За какие периоды вакансии, которые вам нравятся?"
      ],
      "metadata": {
        "id": "7OvJlmG5RNFQ"
      }
    },
    {
      "cell_type": "code",
      "source": [
        "{row['vacstatus'] for row in vacs}"
      ],
      "metadata": {
        "colab": {
          "base_uri": "https://localhost:8080/"
        },
        "id": "HwTmHGjbSYhg",
        "outputId": "9b293c05-05a9-496c-a5d4-9f346d4e2122"
      },
      "execution_count": 9,
      "outputs": [
        {
          "output_type": "execute_result",
          "data": {
            "text/plain": [
              "{'new'}"
            ]
          },
          "metadata": {},
          "execution_count": 9
        }
      ]
    },
    {
      "cell_type": "code",
      "source": [
        "{row['created_at'] for row in vacs if row['vactitle'] in like}"
      ],
      "metadata": {
        "colab": {
          "base_uri": "https://localhost:8080/"
        },
        "id": "yWbDjIXsHA6B",
        "outputId": "6b951cf5-01ba-4af1-a697-c284ee416f2f"
      },
      "execution_count": 10,
      "outputs": [
        {
          "output_type": "execute_result",
          "data": {
            "text/plain": [
              "{'2021-03-14 09:39:21.854462'}"
            ]
          },
          "metadata": {},
          "execution_count": 10
        }
      ]
    },
    {
      "cell_type": "code",
      "source": [
        "{row['updated_at'] for row in vacs if row['vactitle'] in like}"
      ],
      "metadata": {
        "colab": {
          "base_uri": "https://localhost:8080/"
        },
        "id": "EXFg7UzOHSd-",
        "outputId": "c9311e33-e820-4bbc-abfa-489fe644ba65"
      },
      "execution_count": 11,
      "outputs": [
        {
          "output_type": "execute_result",
          "data": {
            "text/plain": [
              "{'2021-03-14 09:39:21.854584'}"
            ]
          },
          "metadata": {},
          "execution_count": 11
        }
      ]
    },
    {
      "cell_type": "code",
      "source": [
        "vacdates = [row['vacdate'] for row in vacs if row['vactitle'] in like]"
      ],
      "metadata": {
        "id": "JhewLcm757Qf"
      },
      "execution_count": 12,
      "outputs": []
    },
    {
      "cell_type": "code",
      "source": [
        "likes = [row for row in vacs if 'аналитик' in row['vactitle'].lower() and 'python' in row['vacdescription'].lower() and 'sql' in row['vacdescription'].lower() and 'анализ' in row['vacdescription'].lower() and not 'системный'in row['vactitle'].lower() and not 'бизнес' in row['vactitle'].lower()]"
      ],
      "metadata": {
        "id": "gcI1c_HTV3pP"
      },
      "execution_count": 13,
      "outputs": []
    },
    {
      "cell_type": "code",
      "source": [
        "len(likes)"
      ],
      "metadata": {
        "colab": {
          "base_uri": "https://localhost:8080/"
        },
        "id": "hL8sl-prV3na",
        "outputId": "6c65d020-9e7f-476c-92db-b1055b648fc9"
      },
      "execution_count": 14,
      "outputs": [
        {
          "output_type": "execute_result",
          "data": {
            "text/plain": [
              "27"
            ]
          },
          "metadata": {},
          "execution_count": 14
        }
      ]
    },
    {
      "cell_type": "code",
      "source": [
        "periods = defaultdict(list)"
      ],
      "metadata": {
        "id": "glX6GXWkV3lE"
      },
      "execution_count": 15,
      "outputs": []
    },
    {
      "cell_type": "code",
      "source": [
        "for row in likes: \n",
        "  periods['title'].append(row['vactitle'])\n",
        "  periods['date'].append(row['vacdate'])"
      ],
      "metadata": {
        "id": "4y4ii5BGV3di"
      },
      "execution_count": 16,
      "outputs": []
    },
    {
      "cell_type": "code",
      "source": [
        "i = 0 \n",
        "while i < len(likes):\n",
        "  print(periods['title'][i], periods['date'][i], end='\\n')\n",
        "  i+=1"
      ],
      "metadata": {
        "colab": {
          "base_uri": "https://localhost:8080/"
        },
        "id": "EXqJfbWEcg0U",
        "outputId": "9970cab7-7e8f-4c30-a140-fb146416f2e4"
      },
      "execution_count": 17,
      "outputs": [
        {
          "output_type": "stream",
          "name": "stdout",
          "text": [
            "Аналитик SQL (кампании продаж) 2021-03-15\n",
            "Data analyst. Аналитик данных в трайб «Массовая персонализация». 2021-03-12\n",
            "Analyst (Аналитик, команда Клиентской аналитики, Корп.блок) 2021-03-10\n",
            "Ведущий аналитик данных . Руководитель направления Дивизион `Массовая персонализация` 2021-03-09\n",
            "Ведущий аналитик 2021-03-04\n",
            "Финансовый аналитик 2021-03-03\n",
            "Руководитель команды Отчетность и Аналитика 2021-03-02\n",
            "Ведущий аналитик 2021-03-02\n",
            "Аналик SQL. Аналитик crm.Менеджер сегментации клиентской базы 2021-03-01\n",
            "Аналитик данных 2021-02-25\n",
            "Аналитик баз данных 2021-02-24\n",
            "Ведущий аналитик Центра рисков розничного взыскания 2021-02-24\n",
            "Аналитик (кампании продаж) 2021-02-16\n",
            "Data Аналитик 2021-02-11\n",
            "Руководитель направления по аналитике данных 2021-02-08\n",
            "Эксперт по аналитике 2021-02-05\n",
            "Продуктовый аналитик в рекомендательную систему 2021-02-04\n",
            "Аналитик 2021-02-03\n",
            "Аналитик в команду исследования клиентской удовлетворенности 2021-02-02\n",
            "Data analyst. Стажера - Аналитик (кластер Персональные предложения) 2021-01-21\n",
            "Продуктовый аналитик (SberDevices) 2021-01-12\n",
            "Аналитик интеграционных взаимодействий 2020-12-28\n",
            "Аналитик данных AI 2020-12-28\n",
            "Аналитик данных (аналитические витрины) 2020-12-28\n",
            "Аналитик / data analyst. Дивизион `Лояльность` 2020-12-04\n",
            "Ведущий аналитик-исследователь 2021-03-16\n",
            "Старший аналитик по созданию системы принятия решений (ИСУ) для топ-менеджеров 2021-03-16\n"
          ]
        }
      ]
    },
    {
      "cell_type": "code",
      "source": [
        "a = sorted(periods['date'])[0]\n",
        "b = sorted(periods['date'])[len(periods['date'])-1]\n",
        "print(f'Вакансии опубликованы в период с {a} по {b}')"
      ],
      "metadata": {
        "colab": {
          "base_uri": "https://localhost:8080/"
        },
        "id": "zlAaJ3l8e2MH",
        "outputId": "8184c8c4-e98d-4c6e-ab4e-ce4eb6dd86bb"
      },
      "execution_count": 18,
      "outputs": [
        {
          "output_type": "stream",
          "name": "stdout",
          "text": [
            "Вакансии опубликованы в период с 2020-12-04 по 2021-03-16\n"
          ]
        }
      ]
    },
    {
      "cell_type": "markdown",
      "source": [
        "Сколько вакансий с такими **позициями**, на которых **вы работаете**?\n",
        "\n",
        "Ответ: 8"
      ],
      "metadata": {
        "id": "eTaHayFVmuMF"
      }
    },
    {
      "cell_type": "code",
      "source": [
        "auditors = [row for row in vacs if row['vactitle'].lower().find('аудитор')>-1]\n",
        "len(auditors)\n"
      ],
      "metadata": {
        "colab": {
          "base_uri": "https://localhost:8080/"
        },
        "id": "a8AbW8A3dKSN",
        "outputId": "d202bc45-3dad-4c48-8d2a-c722f5503405"
      },
      "execution_count": 19,
      "outputs": [
        {
          "output_type": "execute_result",
          "data": {
            "text/plain": [
              "18"
            ]
          },
          "metadata": {},
          "execution_count": 19
        }
      ]
    },
    {
      "cell_type": "code",
      "source": [
        "auditors_count = Counter([row['vactitle'][:15] for row in vacs if row['vactitle'].lower().find('аудитор')>-1])\n",
        "auditors_count.most_common()"
      ],
      "metadata": {
        "colab": {
          "base_uri": "https://localhost:8080/"
        },
        "id": "fyGivktNdKP4",
        "outputId": "1daa8749-ae57-432f-8e7f-d12c6c43c518"
      },
      "execution_count": 20,
      "outputs": [
        {
          "output_type": "execute_result",
          "data": {
            "text/plain": [
              "[('Старший аудитор', 8),\n",
              " ('Ведущий аудитор', 5),\n",
              " ('Аудитор', 3),\n",
              " ('Главный аудитор', 1),\n",
              " ('Аудитор (с навы', 1)]"
            ]
          },
          "metadata": {},
          "execution_count": 20
        }
      ]
    },
    {
      "cell_type": "code",
      "source": [
        "my_position= [row['vactitle'] for row in vacs if row['vactitle'].lower().startswith('старший аудитор')]\n",
        "len(my_position)"
      ],
      "metadata": {
        "colab": {
          "base_uri": "https://localhost:8080/"
        },
        "id": "O7CwImysoRIA",
        "outputId": "943f1b4b-2fdd-48f7-83c2-5c80ff6f21d9"
      },
      "execution_count": 21,
      "outputs": [
        {
          "output_type": "execute_result",
          "data": {
            "text/plain": [
              "8"
            ]
          },
          "metadata": {},
          "execution_count": 21
        }
      ]
    },
    {
      "cell_type": "markdown",
      "source": [
        "Сколько вакансий для аналитика данных?\n",
        "\n",
        "Ответ: 55"
      ],
      "metadata": {
        "id": "kbPaDzfQXkLU"
      }
    },
    {
      "cell_type": "code",
      "source": [
        "analysts = [row['vactitle'] for row in vacs if row['vactitle'].lower().find('аналитик')>-1]\n",
        "len(analysts)"
      ],
      "metadata": {
        "colab": {
          "base_uri": "https://localhost:8080/"
        },
        "id": "ubNPsLUgXktr",
        "outputId": "31d9637e-5627-46a9-df7d-1c9867cf85e4"
      },
      "execution_count": 22,
      "outputs": [
        {
          "output_type": "execute_result",
          "data": {
            "text/plain": [
              "389"
            ]
          },
          "metadata": {},
          "execution_count": 22
        }
      ]
    },
    {
      "cell_type": "code",
      "source": [
        "analysts_count = Counter(analysts)"
      ],
      "metadata": {
        "id": "duvjJSbtXjao"
      },
      "execution_count": 23,
      "outputs": []
    },
    {
      "cell_type": "code",
      "source": [
        "analysts_count.most_common(10)"
      ],
      "metadata": {
        "colab": {
          "base_uri": "https://localhost:8080/"
        },
        "id": "13y4WeWDXlf8",
        "outputId": "8c8cd653-5634-4169-a62e-42256d58d95f"
      },
      "execution_count": 24,
      "outputs": [
        {
          "output_type": "execute_result",
          "data": {
            "text/plain": [
              "[('Системный аналитик', 62),\n",
              " ('Аналитик', 16),\n",
              " ('Старший кредитный аналитик', 12),\n",
              " ('Бизнес-аналитик', 8),\n",
              " ('Ведущий аналитик', 5),\n",
              " ('Аналитик данных', 5),\n",
              " ('Главный аналитик', 5),\n",
              " ('Аналитик ОД', 4),\n",
              " ('Системный аналитик DWH', 3),\n",
              " ('Ведущий аналитик данных', 2)]"
            ]
          },
          "metadata": {},
          "execution_count": 24
        }
      ]
    },
    {
      "cell_type": "code",
      "source": [
        "analysts1 = [row['vactitle'] for row in vacs if row['vactitle'].lower().find('аналитик big data')>-1]\n",
        "analysts1"
      ],
      "metadata": {
        "colab": {
          "base_uri": "https://localhost:8080/"
        },
        "id": "X0w_PzQEl5Ae",
        "outputId": "46b4eb4c-710a-4536-889d-e104dbd030f7"
      },
      "execution_count": 25,
      "outputs": [
        {
          "output_type": "execute_result",
          "data": {
            "text/plain": [
              "['Аналитик Big Data', 'Аналитик Big Data']"
            ]
          },
          "metadata": {},
          "execution_count": 25
        }
      ]
    },
    {
      "cell_type": "code",
      "source": [
        "analysts2 = [row['vactitle'] for row in vacs if row['vactitle'].lower().find('data analyst')>-1]\n",
        "len(analysts2)\n"
      ],
      "metadata": {
        "colab": {
          "base_uri": "https://localhost:8080/"
        },
        "id": "yrmR0xRlmxSU",
        "outputId": "459bedb5-fa3f-4516-f6eb-654674e1ef9d"
      },
      "execution_count": 26,
      "outputs": [
        {
          "output_type": "execute_result",
          "data": {
            "text/plain": [
              "22"
            ]
          },
          "metadata": {},
          "execution_count": 26
        }
      ]
    },
    {
      "cell_type": "code",
      "source": [
        "analysts1.extend(analysts2)\n",
        "len(analysts1)"
      ],
      "metadata": {
        "colab": {
          "base_uri": "https://localhost:8080/"
        },
        "id": "hoYu9Obouuik",
        "outputId": "fe8ab087-9c8a-44af-a947-0470f42ae288"
      },
      "execution_count": 27,
      "outputs": [
        {
          "output_type": "execute_result",
          "data": {
            "text/plain": [
              "24"
            ]
          },
          "metadata": {},
          "execution_count": 27
        }
      ]
    },
    {
      "cell_type": "code",
      "source": [
        "analysts3 = [row['vactitle'] for row in vacs if row['vactitle'].replace('-', ' ').lower().find('data аналитик')>-1]\n",
        "analysts3"
      ],
      "metadata": {
        "colab": {
          "base_uri": "https://localhost:8080/"
        },
        "id": "6ZqP00IavWfD",
        "outputId": "7bf3d4ba-fe21-49a4-d25f-862d4146d317"
      },
      "execution_count": 28,
      "outputs": [
        {
          "output_type": "execute_result",
          "data": {
            "text/plain": [
              "['Senior Data аналитик', 'Data Аналитик']"
            ]
          },
          "metadata": {},
          "execution_count": 28
        }
      ]
    },
    {
      "cell_type": "code",
      "source": [
        "analysts4 = [row['vactitle'] for row in vacs if row['vactitle'].lower().find('аналитик баз данных')>-1]\n",
        "analysts4"
      ],
      "metadata": {
        "colab": {
          "base_uri": "https://localhost:8080/"
        },
        "id": "7ciKNu-7x2Yl",
        "outputId": "a29f28a3-c347-4da7-8977-088cb487d3dd"
      },
      "execution_count": 29,
      "outputs": [
        {
          "output_type": "execute_result",
          "data": {
            "text/plain": [
              "['Аналитик баз данных',\n",
              " 'Разработчик-Аналитик баз данных',\n",
              " 'Аналитик баз данных']"
            ]
          },
          "metadata": {},
          "execution_count": 29
        }
      ]
    },
    {
      "cell_type": "code",
      "source": [
        "analysts3.extend(analysts4)\n",
        "analysts3"
      ],
      "metadata": {
        "colab": {
          "base_uri": "https://localhost:8080/"
        },
        "id": "TkIHGJ1w1YTD",
        "outputId": "3a6def6b-78e3-4c89-fdfd-f3bac1334d1b"
      },
      "execution_count": 30,
      "outputs": [
        {
          "output_type": "execute_result",
          "data": {
            "text/plain": [
              "['Senior Data аналитик',\n",
              " 'Data Аналитик',\n",
              " 'Аналитик баз данных',\n",
              " 'Разработчик-Аналитик баз данных',\n",
              " 'Аналитик баз данных']"
            ]
          },
          "metadata": {},
          "execution_count": 30
        }
      ]
    },
    {
      "cell_type": "code",
      "source": [
        "analysts1.extend(analysts3)\n",
        "len(analysts1)"
      ],
      "metadata": {
        "colab": {
          "base_uri": "https://localhost:8080/"
        },
        "id": "zYNSKLke1mDy",
        "outputId": "6bf3bb60-8c3e-4a0c-d8a4-bada0a75f010"
      },
      "execution_count": 31,
      "outputs": [
        {
          "output_type": "execute_result",
          "data": {
            "text/plain": [
              "29"
            ]
          },
          "metadata": {},
          "execution_count": 31
        }
      ]
    },
    {
      "cell_type": "code",
      "source": [
        "analysts5 = [row['vactitle'] for row in vacs if (row['vactitle'].lower().find('аналитик данных')>-1)]\n",
        "len(analysts5)"
      ],
      "metadata": {
        "colab": {
          "base_uri": "https://localhost:8080/"
        },
        "id": "h_aFxabJ2L30",
        "outputId": "f3385bf2-796f-4458-b360-3aca9d93411c"
      },
      "execution_count": 32,
      "outputs": [
        {
          "output_type": "execute_result",
          "data": {
            "text/plain": [
              "21"
            ]
          },
          "metadata": {},
          "execution_count": 32
        }
      ]
    },
    {
      "cell_type": "code",
      "source": [
        "analysts1.extend(analysts5)\n",
        "len(analysts1)"
      ],
      "metadata": {
        "colab": {
          "base_uri": "https://localhost:8080/"
        },
        "id": "b0i2dr-j2rpI",
        "outputId": "b8403527-463c-4733-947b-6f44174ce132"
      },
      "execution_count": 33,
      "outputs": [
        {
          "output_type": "execute_result",
          "data": {
            "text/plain": [
              "50"
            ]
          },
          "metadata": {},
          "execution_count": 33
        }
      ]
    },
    {
      "cell_type": "markdown",
      "source": [
        "Сколько вакансий для аналитика данных с использованием Python?\n",
        "\n",
        "Ответ: 25"
      ],
      "metadata": {
        "id": "HvVsupXEXqh0"
      }
    },
    {
      "cell_type": "code",
      "source": [
        "analysts1_python = [row['vactitle'] for row in vacs if row['vactitle'] in analysts1 and 'python' in row['vacdescription'].lower()]\n",
        "len(analysts1_python)"
      ],
      "metadata": {
        "colab": {
          "base_uri": "https://localhost:8080/"
        },
        "id": "PfkhvYEuOxzz",
        "outputId": "2b39f988-f19c-4455-e19b-7bf0bc22f56d"
      },
      "execution_count": 34,
      "outputs": [
        {
          "output_type": "execute_result",
          "data": {
            "text/plain": [
              "25"
            ]
          },
          "metadata": {},
          "execution_count": 34
        }
      ]
    }
  ],
  "metadata": {
    "kernelspec": {
      "display_name": "Python 3",
      "language": "python",
      "name": "python3"
    },
    "language_info": {
      "codemirror_mode": {
        "name": "ipython",
        "version": 3
      },
      "file_extension": ".py",
      "mimetype": "text/x-python",
      "name": "python",
      "nbconvert_exporter": "python",
      "pygments_lexer": "ipython3",
      "version": "3.8.5"
    },
    "colab": {
      "name": "ДЗ1. \"without_pandas.ipynb\"",
      "provenance": [],
      "collapsed_sections": [],
      "include_colab_link": true
    }
  },
  "nbformat": 4,
  "nbformat_minor": 0
}