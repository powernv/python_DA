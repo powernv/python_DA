{
  "cells": [
    {
      "cell_type": "markdown",
      "metadata": {
        "id": "view-in-github",
        "colab_type": "text"
      },
      "source": [
        "<a href=\"https://colab.research.google.com/github/powernv/python_DA/blob/main/hometasks/%D0%94%D0%972_%22HH_api_hometask_ipynb%22.ipynb\" target=\"_parent\"><img src=\"https://colab.research.google.com/assets/colab-badge.svg\" alt=\"Open In Colab\"/></a>"
      ]
    },
    {
      "cell_type": "markdown",
      "source": [
        "# Задание\n",
        "* Скачать все вакансии СБЕРа с ХХ (у апи есть ограничение в 2000, а также captcha подумайте как их можно обойти)\n",
        "* Извлеките все описания этих вакансий\n",
        "* Создайте DataFrame  добавьте поле skills\n",
        "* Переведите даты публикаций в datetime\n",
        "* Постройте график опубликованных вакансий по датам\n",
        "* Переведите даты в дни недели, и определите день недели, в который больше всего публикуют вакансий\n",
        "* Найдите те вакансии с использованием python, которые вам интересны\n",
        "* Определите по полю skills какие навыки больше всего востребованы для этих вакансий\n",
        "* Постройте график наиболее востребованных навыков для аналитика данных"
      ],
      "metadata": {
        "collapsed": false,
        "pycharm": {
          "name": "#%% md\n"
        },
        "id": "lqvndWOO--O4"
      }
    },
    {
      "cell_type": "markdown",
      "source": [
        "https://github.com/hhru/api"
      ],
      "metadata": {
        "collapsed": false,
        "pycharm": {
          "name": "#%% md\n"
        },
        "id": "PVcYUmBg--O5"
      }
    },
    {
      "cell_type": "code",
      "execution_count": 11,
      "outputs": [],
      "source": [
        "import requests\n",
        "from tqdm.auto import tqdm\n",
        "import pandas as pd"
      ],
      "metadata": {
        "pycharm": {
          "name": "#%%\n"
        },
        "id": "H_ulf1E5--O6"
      }
    },
    {
      "cell_type": "code",
      "source": [
        "url = f'https://api.hh.ru/areas'\n",
        "reg = requests.get(url)\n",
        "regg = reg.json()"
      ],
      "metadata": {
        "id": "w8QojBfm9ExC"
      },
      "execution_count": 12,
      "outputs": []
    },
    {
      "cell_type": "code",
      "source": [
        "reggg = [(row['id'], row['name']) for row in regg]\n",
        "reggg"
      ],
      "metadata": {
        "colab": {
          "base_uri": "https://localhost:8080/"
        },
        "id": "faSrmWgO_NYB",
        "outputId": "52db6425-fa95-446d-862d-7192d17c708a"
      },
      "execution_count": 13,
      "outputs": [
        {
          "output_type": "execute_result",
          "data": {
            "text/plain": [
              "[('113', 'Россия'),\n",
              " ('5', 'Украина'),\n",
              " ('40', 'Казахстан'),\n",
              " ('9', 'Азербайджан'),\n",
              " ('16', 'Беларусь'),\n",
              " ('28', 'Грузия'),\n",
              " ('1001', 'Другие регионы'),\n",
              " ('48', 'Кыргызстан'),\n",
              " ('97', 'Узбекистан')]"
            ]
          },
          "metadata": {},
          "execution_count": 13
        }
      ]
    },
    {
      "cell_type": "code",
      "execution_count": 14,
      "outputs": [],
      "source": [
        "sber = '3529'\n",
        "page = 1\n",
        "num_per_page = 100\n",
        "region = [113, 5, 40, 9, 16, 28, 1001, 48, 97]\n",
        "date_from = '2022-07-01'\n",
        "date_to = '2022-07-27'"
      ],
      "metadata": {
        "pycharm": {
          "name": "#%%\n"
        },
        "id": "VpyHn215--O7"
      }
    },
    {
      "cell_type": "code",
      "execution_count": 15,
      "outputs": [
        {
          "output_type": "execute_result",
          "data": {
            "text/plain": [
              "200"
            ]
          },
          "metadata": {},
          "execution_count": 15
        }
      ],
      "source": [
        "\n",
        "url = f'https://api.hh.ru/vacancies'\n",
        "params = {\n",
        "    'employer_id':sber,\n",
        "    'page':page,\n",
        "    'per_page':num_per_page,\n",
        "    'area':region,\n",
        "    'date_from':date_from,\n",
        "    'date_to':date_to\n",
        "}\n",
        "res = requests.get(url, params=params)\n",
        "res.status_code"
      ],
      "metadata": {
        "pycharm": {
          "name": "#%%\n"
        },
        "id": "Yib02Q6J--O7",
        "colab": {
          "base_uri": "https://localhost:8080/"
        },
        "outputId": "43562cee-3c81-4c91-9581-6e9039ef59a7"
      }
    },
    {
      "cell_type": "code",
      "execution_count": 16,
      "outputs": [
        {
          "output_type": "execute_result",
          "data": {
            "text/plain": [
              "(14, 1382)"
            ]
          },
          "metadata": {},
          "execution_count": 16
        }
      ],
      "source": [
        "\n",
        "vacancies = res.json()\n",
        "num_pages = vacancies.get('pages')\n",
        "found = vacancies.get('found')\n",
        "num_pages, found"
      ],
      "metadata": {
        "pycharm": {
          "name": "#%%\n"
        },
        "id": "_0UTLJ5w--O_",
        "outputId": "dc24829c-d398-4099-d9e5-464e98522372",
        "colab": {
          "base_uri": "https://localhost:8080/"
        }
      }
    },
    {
      "cell_type": "code",
      "execution_count": 17,
      "outputs": [
        {
          "output_type": "execute_result",
          "data": {
            "text/plain": [
              "dict_keys(['items', 'found', 'pages', 'per_page', 'page', 'clusters', 'arguments', 'alternate_url'])"
            ]
          },
          "metadata": {},
          "execution_count": 17
        }
      ],
      "source": [
        "vacancies.keys()"
      ],
      "metadata": {
        "pycharm": {
          "name": "#%%\n"
        },
        "id": "ik_LAsy9--PA",
        "outputId": "5107f04b-f4f3-4818-cfcb-7f3a7f69c912",
        "colab": {
          "base_uri": "https://localhost:8080/"
        }
      }
    },
    {
      "cell_type": "code",
      "source": [
        "all_vacancy_ids = []\n",
        "for i in tqdm(range(num_pages)):\n",
        "    url = f'https://api.hh.ru/vacancies'\n",
        "    params = {\n",
        "      'employer_id':sber,\n",
        "      'page': i,\n",
        "      'per_page':num_per_page,\n",
        "      'area':region,\n",
        "      'date_from':date_from,\n",
        "      'date_to':date_to\n",
        "    }\n",
        "    res = requests.get(url, params = params)\n",
        "    vacancies = res.json()\n",
        "    vacancy_ids = [v.get('id') for v in vacancies.get('items')]\n",
        "    all_vacancy_ids.extend(vacancy_ids)"
      ],
      "metadata": {
        "colab": {
          "base_uri": "https://localhost:8080/",
          "height": 49,
          "referenced_widgets": [
            "5c9c8f7d3f724f90be6cf028531004ef",
            "b0317fdef142492fb6226943e528540c",
            "353731f5da1748978db155d80bf92ee5",
            "0a940fd7a7fb4bb2a19157401b46db98",
            "e38df03800b04b50bb736b21c9f351ac",
            "9e6b1e6947c24368a345dbfb041df5ff",
            "9f9d64d1c28142f19ac0149a105a76f3",
            "f03112ba0cfa46c1adb07514aeefaa58",
            "e1a8b12f2daf4a65b4f2c8b29f7ee18a",
            "ce297c951f5447a8949d2940568bf2aa",
            "f7acf9f724a44a4dba43a83270990a16"
          ]
        },
        "id": "ySbFTelgmmh4",
        "outputId": "b3987a7a-3c30-4598-a94c-182f795c16d1"
      },
      "execution_count": 18,
      "outputs": [
        {
          "output_type": "display_data",
          "data": {
            "text/plain": [
              "  0%|          | 0/14 [00:00<?, ?it/s]"
            ],
            "application/vnd.jupyter.widget-view+json": {
              "version_major": 2,
              "version_minor": 0,
              "model_id": "5c9c8f7d3f724f90be6cf028531004ef"
            }
          },
          "metadata": {}
        }
      ]
    },
    {
      "cell_type": "code",
      "source": [
        "len(all_vacancy_ids)"
      ],
      "metadata": {
        "colab": {
          "base_uri": "https://localhost:8080/"
        },
        "id": "hYw0RUzBnMex",
        "outputId": "213ea0c7-fbd9-4462-dc7e-b818ef0d5c83"
      },
      "execution_count": 19,
      "outputs": [
        {
          "output_type": "execute_result",
          "data": {
            "text/plain": [
              "1382"
            ]
          },
          "metadata": {},
          "execution_count": 19
        }
      ]
    },
    {
      "cell_type": "code",
      "source": [
        "url = f'https://api.hh.ru/vacancies'\n",
        "params = {\n",
        "    'employer_id':'3529',\n",
        "    'page':1,\n",
        "    'per_page':100,\n",
        "    'area':[113, 5, 40, 9, 16, 28, 1001, 48, 97],\n",
        "    'date_from':'2022-07-28',\n",
        "    'date_to':'2022-08-04'\n",
        "}\n",
        "res2 = requests.get(url, params=params)\n",
        "res2.status_code"
      ],
      "metadata": {
        "colab": {
          "base_uri": "https://localhost:8080/"
        },
        "id": "OSsm0SsNF8gl",
        "outputId": "d00744c3-d868-437b-92d7-31c23002dbbe"
      },
      "execution_count": 20,
      "outputs": [
        {
          "output_type": "execute_result",
          "data": {
            "text/plain": [
              "200"
            ]
          },
          "metadata": {},
          "execution_count": 20
        }
      ]
    },
    {
      "cell_type": "code",
      "source": [
        "vacancies2 = res2.json()\n",
        "num_pages2 = vacancies2.get('pages')\n",
        "found = vacancies2.get('found')\n",
        "num_pages2, found"
      ],
      "metadata": {
        "colab": {
          "base_uri": "https://localhost:8080/"
        },
        "id": "PdJmlNXqJSKr",
        "outputId": "8513be92-b132-4a7d-9d0e-9970f8c93089"
      },
      "execution_count": 21,
      "outputs": [
        {
          "output_type": "execute_result",
          "data": {
            "text/plain": [
              "(14, 1336)"
            ]
          },
          "metadata": {},
          "execution_count": 21
        }
      ]
    },
    {
      "cell_type": "code",
      "source": [
        "all_vacancy_ids2 = []\n",
        "for i in tqdm(range(num_pages2)):\n",
        "    url = f'https://api.hh.ru/vacancies'\n",
        "    params2 = {\n",
        "      'employer_id': sber,\n",
        "      'page': i,\n",
        "      'per_page': num_per_page,\n",
        "      'area': region,\n",
        "      'date_from': date_from,\n",
        "      'date_to': date_to\n",
        "    }\n",
        "    res2 = requests.get(url, params = params2)\n",
        "    vacancies2 = res2.json()\n",
        "    vacancy_ids2 = [v.get('id') for v in vacancies2.get('items')]\n",
        "    all_vacancy_ids2.extend(vacancy_ids2)"
      ],
      "metadata": {
        "colab": {
          "base_uri": "https://localhost:8080/",
          "height": 49,
          "referenced_widgets": [
            "c9fcf0f1ee74473ebbfbcdaedc7e4fef",
            "95145bc2d4b247b688e5409fb1bec160",
            "c6f730d101f34bc4a2ea5413becc568f",
            "be7ae1351e4f4c979acca975bf031cb1",
            "ca6ce0e564474ba79db30e014e4d326c",
            "b6b0a8f7f55e4c7f941f1fb15127c31d",
            "76e9c36f2e66412a95e07fe82c5f3f81",
            "cdbe4cb7ebdd4eb5bcae0ab649a4b368",
            "7cc415a2a98a458595a6c47b66ef2dbf",
            "d040187d17ac459098f265ecdc772d97",
            "e4a7f7905ea742739c6aeb6f6b74e682"
          ]
        },
        "id": "0s0YpDkMpzzk",
        "outputId": "ea78c4ff-076a-475b-9ac6-09547651e9d0"
      },
      "execution_count": 22,
      "outputs": [
        {
          "output_type": "display_data",
          "data": {
            "text/plain": [
              "  0%|          | 0/14 [00:00<?, ?it/s]"
            ],
            "application/vnd.jupyter.widget-view+json": {
              "version_major": 2,
              "version_minor": 0,
              "model_id": "c9fcf0f1ee74473ebbfbcdaedc7e4fef"
            }
          },
          "metadata": {}
        }
      ]
    },
    {
      "cell_type": "code",
      "source": [
        "len(all_vacancy_ids2)"
      ],
      "metadata": {
        "colab": {
          "base_uri": "https://localhost:8080/"
        },
        "id": "K0uask_lqwDS",
        "outputId": "dc91525c-c910-4600-d714-f10ab45e9054"
      },
      "execution_count": 23,
      "outputs": [
        {
          "output_type": "execute_result",
          "data": {
            "text/plain": [
              "1382"
            ]
          },
          "metadata": {},
          "execution_count": 23
        }
      ]
    },
    {
      "cell_type": "code",
      "source": [
        "sber = '3529'\n",
        "page = 1\n",
        "num_per_page = 100\n",
        "region = [113, 5, 40, 9, 16, 28, 1001, 48, 97]\n",
        "date_from = '2022-08-05'\n",
        "date_to = '2022-08-08'\n",
        "\n",
        "url = f'https://api.hh.ru/vacancies'\n",
        "\n",
        "params3 = {\n",
        "    'employer_id': sber,\n",
        "    'page': page,\n",
        "    'num_per_page': num_per_page,\n",
        "    'area': region,\n",
        "    'date_from': date_from,\n",
        "    'date_to': date_to\n",
        "}\n",
        "\n",
        "res3 = requests.get(url, params = params3)\n",
        "res3.status_code"
      ],
      "metadata": {
        "colab": {
          "base_uri": "https://localhost:8080/"
        },
        "id": "ruNCdQhPJyrq",
        "outputId": "f4227597-191d-47be-b482-12519d3963c9"
      },
      "execution_count": 24,
      "outputs": [
        {
          "output_type": "execute_result",
          "data": {
            "text/plain": [
              "200"
            ]
          },
          "metadata": {},
          "execution_count": 24
        }
      ]
    },
    {
      "cell_type": "code",
      "source": [
        "vacancies3 = res3.json()\n",
        "num_pages3 = vacancies3.get('pages')\n",
        "found3 = vacancies3.get('found')\n",
        "num_pages3, found3"
      ],
      "metadata": {
        "colab": {
          "base_uri": "https://localhost:8080/"
        },
        "id": "sHTwTrpiTbHw",
        "outputId": "04e2228d-35db-416c-d72c-ede099193d6e"
      },
      "execution_count": 25,
      "outputs": [
        {
          "output_type": "execute_result",
          "data": {
            "text/plain": [
              "(27, 538)"
            ]
          },
          "metadata": {},
          "execution_count": 25
        }
      ]
    },
    {
      "cell_type": "code",
      "source": [
        "a = [v.get('id') for v in vacancies3.get('items')]\n",
        "len(a)"
      ],
      "metadata": {
        "colab": {
          "base_uri": "https://localhost:8080/"
        },
        "id": "rZftVgLFsteK",
        "outputId": "5b42e742-a0a2-4811-afc4-28b6207afdd3"
      },
      "execution_count": 26,
      "outputs": [
        {
          "output_type": "execute_result",
          "data": {
            "text/plain": [
              "20"
            ]
          },
          "metadata": {},
          "execution_count": 26
        }
      ]
    },
    {
      "cell_type": "code",
      "source": [
        "all_vacancy_ids3 = []\n",
        "for i in tqdm(range(num_pages3)):\n",
        "    url = f'https://api.hh.ru/vacancies'\n",
        "    params3 = {\n",
        "      'employer_id': sber,\n",
        "      'page': i,\n",
        "      'per_page': 20,\n",
        "      'area': region,\n",
        "      'date_from': date_from,\n",
        "      'date_to': date_to\n",
        "    }\n",
        "    res3 = requests.get(url, params = params3)\n",
        "    vacancies3 = res3.json()\n",
        "    vacancy_ids3 = [v.get('id') for v in vacancies3.get('items')]\n",
        "    all_vacancy_ids3.extend(vacancy_ids3)"
      ],
      "metadata": {
        "colab": {
          "base_uri": "https://localhost:8080/",
          "height": 49,
          "referenced_widgets": [
            "0d273d0129c848eea42c5d76e05b3321",
            "2a84b835737b4379a380aa452fe38eb2",
            "cfb2f825a8d840b29ffb6427ae7805ff",
            "9597d65f83c049f9977f4702b2176991",
            "2fd6a1d4f96c44ffa7950fbb696537c8",
            "4706802c0ce84cd59ca3680a7843e6f9",
            "cd11923615734c6aa430fba0d54130e9",
            "7280893c641c4be58d71cfbae7c50ca5",
            "46ec72f65ce44a93a07603de0a1e869d",
            "6a5d54f4de8443ba9c99e11c8158d7b6",
            "454de466435c4acb84259b61b34c73d4"
          ]
        },
        "id": "9mVG3e7-q6C3",
        "outputId": "f1f0b535-d0af-4010-9a37-f792fd8b9033"
      },
      "execution_count": 27,
      "outputs": [
        {
          "output_type": "display_data",
          "data": {
            "text/plain": [
              "  0%|          | 0/27 [00:00<?, ?it/s]"
            ],
            "application/vnd.jupyter.widget-view+json": {
              "version_major": 2,
              "version_minor": 0,
              "model_id": "0d273d0129c848eea42c5d76e05b3321"
            }
          },
          "metadata": {}
        }
      ]
    },
    {
      "cell_type": "code",
      "source": [
        "len(all_vacancy_ids3)"
      ],
      "metadata": {
        "colab": {
          "base_uri": "https://localhost:8080/"
        },
        "id": "xaydY1c1vW5o",
        "outputId": "81b8562c-50b9-4dd5-970b-67b9c973bcaf"
      },
      "execution_count": 28,
      "outputs": [
        {
          "output_type": "execute_result",
          "data": {
            "text/plain": [
              "538"
            ]
          },
          "metadata": {},
          "execution_count": 28
        }
      ]
    },
    {
      "cell_type": "code",
      "source": [
        "all_vacancy_ids.extend(all_vacancy_ids2)"
      ],
      "metadata": {
        "id": "ELFwRR5jrqjT"
      },
      "execution_count": 29,
      "outputs": []
    },
    {
      "cell_type": "code",
      "source": [
        "len(all_vacancy_ids)"
      ],
      "metadata": {
        "colab": {
          "base_uri": "https://localhost:8080/"
        },
        "id": "XLdE2gOswDZR",
        "outputId": "792015d9-df24-4093-9948-739d44d9264a"
      },
      "execution_count": 30,
      "outputs": [
        {
          "output_type": "execute_result",
          "data": {
            "text/plain": [
              "2764"
            ]
          },
          "metadata": {},
          "execution_count": 30
        }
      ]
    },
    {
      "cell_type": "code",
      "source": [
        "all_vacancy_ids.extend(all_vacancy_ids3)"
      ],
      "metadata": {
        "id": "T-alCglHwGW3"
      },
      "execution_count": 31,
      "outputs": []
    },
    {
      "cell_type": "code",
      "source": [
        "len(all_vacancy_ids)"
      ],
      "metadata": {
        "colab": {
          "base_uri": "https://localhost:8080/"
        },
        "id": "YdmUeYLHwKQ2",
        "outputId": "1d44cf0f-863a-440c-8411-d7036d5eb3bf"
      },
      "execution_count": 32,
      "outputs": [
        {
          "output_type": "execute_result",
          "data": {
            "text/plain": [
              "3302"
            ]
          },
          "metadata": {},
          "execution_count": 32
        }
      ]
    },
    {
      "cell_type": "code",
      "source": [
        "save = all_vacancy_ids.copy()"
      ],
      "metadata": {
        "id": "BpMNE3W5wg0X"
      },
      "execution_count": 33,
      "outputs": []
    },
    {
      "cell_type": "code",
      "source": [
        "len(save)"
      ],
      "metadata": {
        "colab": {
          "base_uri": "https://localhost:8080/"
        },
        "id": "7Ac47-O7wmPt",
        "outputId": "674ffa61-9b2f-4723-88a4-2ee0f6c2c9de"
      },
      "execution_count": 34,
      "outputs": [
        {
          "output_type": "execute_result",
          "data": {
            "text/plain": [
              "3302"
            ]
          },
          "metadata": {},
          "execution_count": 34
        }
      ]
    },
    {
      "cell_type": "code",
      "execution_count": 35,
      "outputs": [],
      "source": [
        "# v[0].get('')"
      ],
      "metadata": {
        "pycharm": {
          "name": "#%%\n"
        },
        "id": "6xa4BH32--PA"
      }
    },
    {
      "cell_type": "markdown",
      "source": [
        "Извлеките все описания этих вакансий"
      ],
      "metadata": {
        "id": "rC55_01gKf2Y"
      }
    },
    {
      "cell_type": "code",
      "execution_count": 36,
      "metadata": {
        "pycharm": {
          "name": "#%%\n"
        },
        "id": "pgL4PmSk--PC",
        "outputId": "c9be681f-cca7-46ff-d316-cb9823b83482",
        "colab": {
          "base_uri": "https://localhost:8080/"
        }
      },
      "outputs": [
        {
          "output_type": "execute_result",
          "data": {
            "text/plain": [
              "3302"
            ]
          },
          "metadata": {},
          "execution_count": 36
        }
      ],
      "source": [
        "len(all_vacancy_ids)\n",
        "# https://api.hh.ru/vacancies/66634517"
      ]
    },
    {
      "cell_type": "code",
      "execution_count": 37,
      "metadata": {
        "pycharm": {
          "name": "#%%\n"
        },
        "id": "mVfuNQ6m--PC",
        "outputId": "7042e854-7e93-480b-d0d9-7e81efb0759e",
        "colab": {
          "referenced_widgets": [
            "7409f58fd65e4517b64e943ab6391853",
            "d70643dea20a4b5c88e3499a21a7192b",
            "3c5f617162c64756974a0e350ff312c3",
            "cfa52a885fdc45a1b3d759086561853a",
            "acf5063e6c014a2faca27f29b9f842ba",
            "80e768fb020a454d9eeda397c07fc04f",
            "8c212dba9c7042a793f083848916d6fa",
            "87329638f64f44618f3004247bd7425e",
            "98db139e4f73499a868abc1e8fe5cc9e",
            "388ff058180e4aca8887029bc425d7d9",
            "b3a9949791834dd09bf95cecb249675c"
          ],
          "base_uri": "https://localhost:8080/",
          "height": 49
        }
      },
      "outputs": [
        {
          "output_type": "display_data",
          "data": {
            "text/plain": [
              "  0%|          | 0/3302 [00:00<?, ?it/s]"
            ],
            "application/vnd.jupyter.widget-view+json": {
              "version_major": 2,
              "version_minor": 0,
              "model_id": "7409f58fd65e4517b64e943ab6391853"
            }
          },
          "metadata": {}
        }
      ],
      "source": [
        "import time\n",
        "vacs = []\n",
        "for vac_id in tqdm(all_vacancy_ids):\n",
        "    url = f'https://api.hh.ru/vacancies/{vac_id}'\n",
        "    res = requests.get(url)\n",
        "    vacs.append(res.json())\n",
        "    time.sleep(1)"
      ]
    },
    {
      "cell_type": "code",
      "source": [
        ""
      ],
      "metadata": {
        "id": "ldW2flDhJZVG"
      },
      "execution_count": 37,
      "outputs": []
    },
    {
      "cell_type": "markdown",
      "source": [
        "Создайте DataFrame, добавьте поле skills"
      ],
      "metadata": {
        "id": "bYqn5jYCDjPD"
      }
    },
    {
      "cell_type": "code",
      "source": [
        ""
      ],
      "metadata": {
        "id": "N3F5JfPhDi8F"
      },
      "execution_count": 37,
      "outputs": []
    },
    {
      "cell_type": "code",
      "execution_count": 38,
      "outputs": [],
      "source": [
        "df = pd.json_normalize(vacs)"
      ],
      "metadata": {
        "pycharm": {
          "name": "#%%\n"
        },
        "id": "EH0dOE7W--PD"
      }
    },
    {
      "cell_type": "code",
      "source": [
        "vac_df = df.drop(['relations', 'created_at', 'working_days', 'languages', 'type.id', 'insider_interview', 'response_letter_required', 'allow_messages', 'contacts','branded_description', 'vacancy_constructor_template', 'accept_handicapped', 'accept_kids', 'archived', 'response_url', 'code', 'hidden','quick_responses_allowed', 'driver_license_types','accept_incomplete_resumes','negotiations_url', 'suitable_resumes_url','apply_alternate_url', 'has_test', 'test', 'alternate_url', 'working_time_intervals', 'working_time_modes','accept_temporary', 'billing_type.id', 'billing_type.name','area.id', 'area.url', 'salary.from', 'salary.to','salary.currency', 'salary.gross','address.city', 'address.street', 'address.building','address.description', 'address.lat', 'address.lng', 'address.raw','address.metro', 'address.metro_stations','employer.name', 'employer.url', 'employer.alternate_url', 'employer.logo_urls.original', 'employer.logo_urls.90','employer.logo_urls.240', 'employer.vacancies_url', 'employer.trusted','address', 'address.metro.station_name', 'address.metro.line_name','address.metro.station_id', 'address.metro.line_id','address.metro.lat', 'address.metro.lng', 'salary', 'department'], axis=1)"
      ],
      "metadata": {
        "id": "z7UZWkF07tWA"
      },
      "execution_count": 40,
      "outputs": []
    },
    {
      "cell_type": "code",
      "source": [
        "vac_df.to_excel('vac_df.xlsx')"
      ],
      "metadata": {
        "id": "n5fm5VV2q6mN"
      },
      "execution_count": 41,
      "outputs": []
    },
    {
      "cell_type": "code",
      "source": [
        "vac_df['skills'] = 0"
      ],
      "metadata": {
        "id": "UGzZdHP-BxoI"
      },
      "execution_count": 42,
      "outputs": []
    },
    {
      "cell_type": "code",
      "source": [
        "for i in tqdm(range(len(vac_df))):\n",
        "  if type(vac_df.key_skills[i]) == list:\n",
        "    b = [c.get('name') for c in vac_df.key_skills[i]]\n",
        "    vac_df['skills'][i] = str(b)"
      ],
      "metadata": {
        "colab": {
          "base_uri": "https://localhost:8080/",
          "height": 247,
          "referenced_widgets": [
            "53c180e9773f41e7b4892e2fafd91eca",
            "d6839c89a7e74a83919857274fae7acf",
            "c5571f6722824fc48f5a506f305ea66d",
            "29f51b67ac924767abc6cda1590ee9fd",
            "09ad438c4e5145ab8afb94d61984dcda",
            "1c6391b0fb334be9aa4b2c243e0dd77e",
            "698c248a767542ba9f5259a05cdb89b8",
            "fd3a5097a2044b0486d46755694ac1b3",
            "4ed560641e724c0cb0a461be4edc7825",
            "e5220a903007471b99f743f4dbaf814a",
            "0a1e9ad12aec4a6c9ca92dce310d1e6c"
          ]
        },
        "id": "wUEUOWK7hcvi",
        "outputId": "63f76a78-19e7-4a92-a090-87b0e130ad31"
      },
      "execution_count": 43,
      "outputs": [
        {
          "output_type": "display_data",
          "data": {
            "text/plain": [
              "  0%|          | 0/3302 [00:00<?, ?it/s]"
            ],
            "application/vnd.jupyter.widget-view+json": {
              "version_major": 2,
              "version_minor": 0,
              "model_id": "53c180e9773f41e7b4892e2fafd91eca"
            }
          },
          "metadata": {}
        },
        {
          "output_type": "stream",
          "name": "stderr",
          "text": [
            "/usr/local/lib/python3.7/dist-packages/ipykernel_launcher.py:4: SettingWithCopyWarning: \n",
            "A value is trying to be set on a copy of a slice from a DataFrame\n",
            "\n",
            "See the caveats in the documentation: https://pandas.pydata.org/pandas-docs/stable/user_guide/indexing.html#returning-a-view-versus-a-copy\n",
            "  after removing the cwd from sys.path.\n",
            "/usr/local/lib/python3.7/dist-packages/pandas/core/indexing.py:1732: SettingWithCopyWarning: \n",
            "A value is trying to be set on a copy of a slice from a DataFrame\n",
            "\n",
            "See the caveats in the documentation: https://pandas.pydata.org/pandas-docs/stable/user_guide/indexing.html#returning-a-view-versus-a-copy\n",
            "  self._setitem_single_block(indexer, value, name)\n"
          ]
        }
      ]
    },
    {
      "cell_type": "markdown",
      "source": [
        "Переведите даты публикаций в datetime"
      ],
      "metadata": {
        "id": "I1Zv-zOsKu5s"
      }
    },
    {
      "cell_type": "code",
      "source": [
        "import datetime"
      ],
      "metadata": {
        "id": "qhzwl1-n9DqN"
      },
      "execution_count": 44,
      "outputs": []
    },
    {
      "cell_type": "code",
      "source": [
        "vac_df.published_at = pd.to_datetime(vac_df.published_at)\n",
        "print(datetime.datetime.date(vac_df.published_at[0]))"
      ],
      "metadata": {
        "colab": {
          "base_uri": "https://localhost:8080/"
        },
        "id": "Je7_8UFeKukj",
        "outputId": "5926efba-d360-42fa-c3b2-d793ebed490d"
      },
      "execution_count": 45,
      "outputs": [
        {
          "output_type": "stream",
          "name": "stdout",
          "text": [
            "2022-07-18\n"
          ]
        }
      ]
    },
    {
      "cell_type": "code",
      "source": [
        "for i in range(len(vac_df)):\n",
        "  vac_df.published_at[i] = datetime.datetime.date(vac_df.published_at[i])"
      ],
      "metadata": {
        "colab": {
          "base_uri": "https://localhost:8080/"
        },
        "id": "4rXxFH43GTRM",
        "outputId": "156669aa-0f9b-4fa7-cbae-98f433f9d8e7"
      },
      "execution_count": 46,
      "outputs": [
        {
          "output_type": "stream",
          "name": "stderr",
          "text": [
            "/usr/local/lib/python3.7/dist-packages/ipykernel_launcher.py:2: SettingWithCopyWarning: \n",
            "A value is trying to be set on a copy of a slice from a DataFrame\n",
            "\n",
            "See the caveats in the documentation: https://pandas.pydata.org/pandas-docs/stable/user_guide/indexing.html#returning-a-view-versus-a-copy\n",
            "  \n"
          ]
        }
      ]
    },
    {
      "cell_type": "markdown",
      "source": [
        "Постройте график опубликованных вакансий по датам"
      ],
      "metadata": {
        "id": "W6Ath8eiOIo9"
      }
    },
    {
      "cell_type": "code",
      "source": [
        "import matplotlib.pyplot as plt"
      ],
      "metadata": {
        "id": "K3LdtaRmKudR"
      },
      "execution_count": 47,
      "outputs": []
    },
    {
      "cell_type": "code",
      "source": [
        "dates = vac_df.groupby('published_at')['id'].count().sort_values()"
      ],
      "metadata": {
        "id": "yzwECSiYkwuB"
      },
      "execution_count": 48,
      "outputs": []
    },
    {
      "cell_type": "code",
      "source": [
        "dates.plot(kind = 'barh')"
      ],
      "metadata": {
        "colab": {
          "base_uri": "https://localhost:8080/",
          "height": 283
        },
        "id": "ZQWVgQASkwlM",
        "outputId": "468d31c0-52e2-45eb-d9e3-87fbc2b14fa4"
      },
      "execution_count": 49,
      "outputs": [
        {
          "output_type": "execute_result",
          "data": {
            "text/plain": [
              "<matplotlib.axes._subplots.AxesSubplot at 0x7f93b4517d90>"
            ]
          },
          "metadata": {},
          "execution_count": 49
        },
        {
          "output_type": "display_data",
          "data": {
            "text/plain": [
              "<Figure size 432x288 with 1 Axes>"
            ],
            "image/png": "[encoded data removed]"
          },
          "metadata": {
            "needs_background": "light"
          }
        }
      ]
    },
    {
      "cell_type": "code",
      "source": [
        "dates.nlargest(7).plot(kind = 'barh')"
      ],
      "metadata": {
        "colab": {
          "base_uri": "https://localhost:8080/",
          "height": 283
        },
        "id": "TU7W2qRaMO0w",
        "outputId": "32a48992-6858-497f-a3e3-c257f3a43b33"
      },
      "execution_count": 50,
      "outputs": [
        {
          "output_type": "execute_result",
          "data": {
            "text/plain": [
              "<matplotlib.axes._subplots.AxesSubplot at 0x7f93b447d210>"
            ]
          },
          "metadata": {},
          "execution_count": 50
        },
        {
          "output_type": "display_data",
          "data": {
            "text/plain": [
              "<Figure size 432x288 with 1 Axes>"
            ],
            "image/png": "[encoded data removed]"
          },
          "metadata": {
            "needs_background": "light"
          }
        }
      ]
    },
    {
      "cell_type": "code",
      "source": [
        ""
      ],
      "metadata": {
        "id": "A8NCXxW-NUpd"
      },
      "execution_count": 50,
      "outputs": []
    },
    {
      "cell_type": "markdown",
      "source": [
        "Переведите даты в дни недели, и определите день недели, в который больше всего публикуют вакансий"
      ],
      "metadata": {
        "id": "JaLgaPYMNVVu"
      }
    },
    {
      "cell_type": "code",
      "source": [
        "c = ['Monday', 'Tuesday', 'Wednesday', 'Thursday', 'Friday', 'Saturday', 'Sunday']\n",
        "vac_df['weekday'] = 9\n",
        "for i in tqdm(range(len(vac_df))):\n",
        "  b = datetime.datetime.weekday(vac_df.published_at[i])\n",
        "  vac_df['weekday'][i] = c[b]\n"
      ],
      "metadata": {
        "colab": {
          "base_uri": "https://localhost:8080/",
          "height": 247,
          "referenced_widgets": [
            "a18ce65108154cfeb8b413185de02818",
            "babaffe2f50e4eb9a3f23be94ef1d193",
            "4a5e6345d06f4395b3bdef86fbf9f9d0",
            "c4e23cf3c21f4495ba631b3e1a89055e",
            "d2bceba55c7f4771a385c46b181efdc5",
            "14b45adadaf9473495a4c4a70ca1c6ae",
            "3b21a3da5ba54075a6bd2e3d48ffff17",
            "528aa41226b94a3c8da7005b4347bf0d",
            "dbd565388cfb4c5284d81c8b69f46a33",
            "ec363f5cda69491db018c87feeef78a9",
            "348cb7b7d6ec4432b37061d55845cf28"
          ]
        },
        "id": "GvRyqjp78hCN",
        "outputId": "6b12eb7a-b91b-4a2c-9dd2-d8368e11673e"
      },
      "execution_count": 51,
      "outputs": [
        {
          "output_type": "display_data",
          "data": {
            "text/plain": [
              "  0%|          | 0/3302 [00:00<?, ?it/s]"
            ],
            "application/vnd.jupyter.widget-view+json": {
              "version_major": 2,
              "version_minor": 0,
              "model_id": "a18ce65108154cfeb8b413185de02818"
            }
          },
          "metadata": {}
        },
        {
          "output_type": "stream",
          "name": "stderr",
          "text": [
            "/usr/local/lib/python3.7/dist-packages/ipykernel_launcher.py:5: SettingWithCopyWarning: \n",
            "A value is trying to be set on a copy of a slice from a DataFrame\n",
            "\n",
            "See the caveats in the documentation: https://pandas.pydata.org/pandas-docs/stable/user_guide/indexing.html#returning-a-view-versus-a-copy\n",
            "  \"\"\"\n",
            "/usr/local/lib/python3.7/dist-packages/pandas/core/indexing.py:1732: SettingWithCopyWarning: \n",
            "A value is trying to be set on a copy of a slice from a DataFrame\n",
            "\n",
            "See the caveats in the documentation: https://pandas.pydata.org/pandas-docs/stable/user_guide/indexing.html#returning-a-view-versus-a-copy\n",
            "  self._setitem_single_block(indexer, value, name)\n"
          ]
        }
      ]
    },
    {
      "cell_type": "code",
      "source": [
        "weekday = vac_df.groupby('weekday')['id'].count().sort_values()"
      ],
      "metadata": {
        "id": "zNT49TybNeE6"
      },
      "execution_count": 52,
      "outputs": []
    },
    {
      "cell_type": "code",
      "source": [
        "weekday.sort_values(ascending = False)"
      ],
      "metadata": {
        "colab": {
          "base_uri": "https://localhost:8080/"
        },
        "id": "_J0Lt9crNd5Z",
        "outputId": "95469aba-0e77-423b-d925-5c5a49f46650"
      },
      "execution_count": 53,
      "outputs": [
        {
          "output_type": "execute_result",
          "data": {
            "text/plain": [
              "weekday\n",
              "Monday       915\n",
              "Wednesday    643\n",
              "Friday       617\n",
              "Tuesday      573\n",
              "Thursday     446\n",
              "Saturday      56\n",
              "Sunday        50\n",
              "Name: id, dtype: int64"
            ]
          },
          "metadata": {},
          "execution_count": 53
        }
      ]
    },
    {
      "cell_type": "code",
      "source": [
        "weekday.plot(kind = 'barh')"
      ],
      "metadata": {
        "colab": {
          "base_uri": "https://localhost:8080/",
          "height": 283
        },
        "id": "98HPr1tiNd3T",
        "outputId": "62cb8381-7575-41c9-f0f7-e9300383ffaa"
      },
      "execution_count": 54,
      "outputs": [
        {
          "output_type": "execute_result",
          "data": {
            "text/plain": [
              "<matplotlib.axes._subplots.AxesSubplot at 0x7f93b51a4950>"
            ]
          },
          "metadata": {},
          "execution_count": 54
        },
        {
          "output_type": "display_data",
          "data": {
            "text/plain": [
              "<Figure size 432x288 with 1 Axes>"
            ],
            "image/png": "[encoded data removed]"
          },
          "metadata": {
            "needs_background": "light"
          }
        }
      ]
    },
    {
      "cell_type": "code",
      "source": [
        "labels1 = [\"Saturday\", \"Sunday\", \"Thursday\", \"Tuesday\", \"Friday\", 'Wednesday', 'Monday']\n",
        "width = 0.5\n",
        "wedge_properties = {\"width\":width}\n",
        "plt.pie(weekday, labels = labels1, wedgeprops=wedge_properties)\n",
        "plt.show()"
      ],
      "metadata": {
        "colab": {
          "base_uri": "https://localhost:8080/",
          "height": 248
        },
        "id": "FSQ_sqKhNd0_",
        "outputId": "ba7b3dba-93f7-492e-d771-1fed91fcd641"
      },
      "execution_count": 55,
      "outputs": [
        {
          "output_type": "display_data",
          "data": {
            "text/plain": [
              "<Figure size 432x288 with 1 Axes>"
            ],
            "image/png": "[encoded data removed]"
          },
          "metadata": {}
        }
      ]
    },
    {
      "cell_type": "code",
      "source": [
        ""
      ],
      "metadata": {
        "id": "6g41lz3QQn0J"
      },
      "execution_count": 55,
      "outputs": []
    },
    {
      "cell_type": "markdown",
      "source": [
        "Найдите те вакансии с использованием python, которые вам интересны"
      ],
      "metadata": {
        "id": "dUu_PMumQocZ"
      }
    },
    {
      "cell_type": "code",
      "source": [
        "point1 = 'аналитик'\n",
        "point2 = 'analyst'\n",
        "point3 = 'python'\n",
        "#point4 = 'От 1 года до 3 лет'\n",
        "#point5 = 'noExperience'"
      ],
      "metadata": {
        "id": "pa7pDY-IQnzP"
      },
      "execution_count": 82,
      "outputs": []
    },
    {
      "cell_type": "code",
      "source": [
        "like1 = vac_df.name.str.lower().str.contains('аналитик')\n",
        "like2 = vac_df.name.str.lower().str.contains('analyst')\n",
        "like3 = vac_df.description.str.lower().str.contains('python')\n",
        "#like4 = vac_df['experience.name'].str.lower().str.contains(point4).fillna(False)\n",
        "#like5 = vac_df['experience.id'].str.lower().str.contains(point5).fillna(False)"
      ],
      "metadata": {
        "id": "1GYTrxMAQnyK"
      },
      "execution_count": 92,
      "outputs": []
    },
    {
      "cell_type": "code",
      "source": [
        "analysts = vac_df[like3& (like1|like2)].reset_index().sort_values(by='published_at', ascending=False)\n",
        "analysts.shape"
      ],
      "metadata": {
        "colab": {
          "base_uri": "https://localhost:8080/"
        },
        "id": "7LdM9KSZQnxI",
        "outputId": "4e7b1f1f-ef24-4f04-998d-4f9679fcb38d"
      },
      "execution_count": 98,
      "outputs": [
        {
          "output_type": "execute_result",
          "data": {
            "text/plain": [
              "(57, 26)"
            ]
          },
          "metadata": {},
          "execution_count": 98
        }
      ]
    },
    {
      "cell_type": "code",
      "source": [
        "analysts.head()"
      ],
      "metadata": {
        "colab": {
          "base_uri": "https://localhost:8080/",
          "height": 612
        },
        "id": "tobMYW2_YVIN",
        "outputId": "62c709e3-567e-4510-e309-4559b5ebaf6c"
      },
      "execution_count": 177,
      "outputs": [
        {
          "output_type": "execute_result",
          "data": {
            "text/plain": [
              "    index        id premium  \\\n",
              "56   3256  67731299   False   \n",
              "53   3045  68557320   False   \n",
              "51   3014  68548682   False   \n",
              "52   3032  68563423   False   \n",
              "54   3099  66099561   False   \n",
              "\n",
              "                                                 name  \\\n",
              "56                         Data engineer/Аналитик DWH   \n",
              "53  Intelligence Analyst (Специалист по киберразве...   \n",
              "51                         Аналитик (Розничные риски)   \n",
              "52                                       Data Analyst   \n",
              "54                Data аналитик (Рекламная платформа)   \n",
              "\n",
              "                                          description  \\\n",
              "56  <p>Наш продукт – платформа для решения полного...   \n",
              "53  <p>We conduct threat intelligence research and...   \n",
              "51  <p>Наша команда занимается управлением риском ...   \n",
              "52  <p><strong><strong>Основные задачи нашей коман...   \n",
              "54  <p>Кто мы? Продуктовая команда &quot;Индустрии...   \n",
              "\n",
              "                                           key_skills  \\\n",
              "56  [{'name': 'DWH'}, {'name': 'Hadoop'}, {'name':...   \n",
              "53                                                 []   \n",
              "51                                                 []   \n",
              "52                                [{'name': 'Spark'}]   \n",
              "54  [{'name': 'Python'}, {'name': 'SQL'}, {'name':...   \n",
              "\n",
              "                                      specializations  \\\n",
              "56  [{'id': '1.221', 'name': 'Программирование, Ра...   \n",
              "53  [{'id': '8.77', 'name': 'Имущественная безопас...   \n",
              "51  [{'id': '17.751', 'name': 'Другое', 'profarea_...   \n",
              "52  [{'id': '1.221', 'name': 'Программирование, Ра...   \n",
              "54  [{'id': '17.751', 'name': 'Другое', 'profarea_...   \n",
              "\n",
              "                                   professional_roles published_at  \\\n",
              "56  [{'id': '96', 'name': 'Программист, разработчи...   2022-08-08   \n",
              "53  [{'id': '120', 'name': 'Специалист службы безо...   2022-08-08   \n",
              "51                 [{'id': '10', 'name': 'Аналитик'}]   2022-08-08   \n",
              "52  [{'id': '96', 'name': 'Программист, разработчи...   2022-08-08   \n",
              "54                 [{'id': '10', 'name': 'Аналитик'}]   2022-08-05   \n",
              "\n",
              "          initial_created_at  ... employment.id   employment.name  \\\n",
              "56  2022-07-13T11:06:44+0300  ...          full  Полная занятость   \n",
              "53  2022-08-08T11:18:24+0300  ...          full  Полная занятость   \n",
              "51  2022-08-08T09:25:55+0300  ...          full  Полная занятость   \n",
              "52  2022-08-08T12:46:23+0300  ...          full  Полная занятость   \n",
              "54  2022-05-26T09:46:27+0300  ...          full  Полная занятость   \n",
              "\n",
              "     department.id     department.name employer.id errors request_id  \\\n",
              "56  3529-3529-data  Сбер. Data Science        3529    NaN        NaN   \n",
              "53  3529-3529-prof  Сбер для экспертов        3529    NaN        NaN   \n",
              "51  3529-3529-prof  Сбер для экспертов        3529    NaN        NaN   \n",
              "52  3529-3529-prof  Сбер для экспертов        3529    NaN        NaN   \n",
              "54    3529-3529-it            Сбер. IT        3529    NaN        NaN   \n",
              "\n",
              "   test.required skills weekday  \n",
              "56           NaN      0  Monday  \n",
              "53           NaN      0  Monday  \n",
              "51           NaN      0  Monday  \n",
              "52           NaN      0  Monday  \n",
              "54           NaN      0  Friday  \n",
              "\n",
              "[5 rows x 26 columns]"
            ],
            "text/html": [
              "\n",
              "  <div id=\"df-2c23d696-1476-4ded-939e-e6be1d1739b6\">\n",
              "    <div class=\"colab-df-container\">\n",
              "      <div>\n",
              "<style scoped>\n",
              "    .dataframe tbody tr th:only-of-type {\n",
              "        vertical-align: middle;\n",
              "    }\n",
              "\n",
              "    .dataframe tbody tr th {\n",
              "        vertical-align: top;\n",
              "    }\n",
              "\n",
              "    .dataframe thead th {\n",
              "        text-align: right;\n",
              "    }\n",
              "</style>\n",
              "<table border=\"1\" class=\"dataframe\">\n",
              "  <thead>\n",
              "    <tr style=\"text-align: right;\">\n",
              "      <th></th>\n",
              "      <th>index</th>\n",
              "      <th>id</th>\n",
              "      <th>premium</th>\n",
              "      <th>name</th>\n",
              "      <th>description</th>\n",
              "      <th>key_skills</th>\n",
              "      <th>specializations</th>\n",
              "      <th>professional_roles</th>\n",
              "      <th>published_at</th>\n",
              "      <th>initial_created_at</th>\n",
              "      <th>...</th>\n",
              "      <th>employment.id</th>\n",
              "      <th>employment.name</th>\n",
              "      <th>department.id</th>\n",
              "      <th>department.name</th>\n",
              "      <th>employer.id</th>\n",
              "      <th>errors</th>\n",
              "      <th>request_id</th>\n",
              "      <th>test.required</th>\n",
              "      <th>skills</th>\n",
              "      <th>weekday</th>\n",
              "    </tr>\n",
              "  </thead>\n",
              "  <tbody>\n",
              "    <tr>\n",
              "      <th>56</th>\n",
              "      <td>3256</td>\n",
              "      <td>67731299</td>\n",
              "      <td>False</td>\n",
              "      <td>Data engineer/Аналитик DWH</td>\n",
              "      <td>&lt;p&gt;Наш продукт – платформа для решения полного...</td>\n",
              "      <td>[{'name': 'DWH'}, {'name': 'Hadoop'}, {'name':...</td>\n",
              "      <td>[{'id': '1.221', 'name': 'Программирование, Ра...</td>\n",
              "      <td>[{'id': '96', 'name': 'Программист, разработчи...</td>\n",
              "      <td>2022-08-08</td>\n",
              "      <td>2022-07-13T11:06:44+0300</td>\n",
              "      <td>...</td>\n",
              "      <td>full</td>\n",
              "      <td>Полная занятость</td>\n",
              "      <td>3529-3529-data</td>\n",
              "      <td>Сбер. Data Science</td>\n",
              "      <td>3529</td>\n",
              "      <td>NaN</td>\n",
              "      <td>NaN</td>\n",
              "      <td>NaN</td>\n",
              "      <td>0</td>\n",
              "      <td>Monday</td>\n",
              "    </tr>\n",
              "    <tr>\n",
              "      <th>53</th>\n",
              "      <td>3045</td>\n",
              "      <td>68557320</td>\n",
              "      <td>False</td>\n",
              "      <td>Intelligence Analyst (Специалист по киберразве...</td>\n",
              "      <td>&lt;p&gt;We conduct threat intelligence research and...</td>\n",
              "      <td>[]</td>\n",
              "      <td>[{'id': '8.77', 'name': 'Имущественная безопас...</td>\n",
              "      <td>[{'id': '120', 'name': 'Специалист службы безо...</td>\n",
              "      <td>2022-08-08</td>\n",
              "      <td>2022-08-08T11:18:24+0300</td>\n",
              "      <td>...</td>\n",
              "      <td>full</td>\n",
              "      <td>Полная занятость</td>\n",
              "      <td>3529-3529-prof</td>\n",
              "      <td>Сбер для экспертов</td>\n",
              "      <td>3529</td>\n",
              "      <td>NaN</td>\n",
              "      <td>NaN</td>\n",
              "      <td>NaN</td>\n",
              "      <td>0</td>\n",
              "      <td>Monday</td>\n",
              "    </tr>\n",
              "    <tr>\n",
              "      <th>51</th>\n",
              "      <td>3014</td>\n",
              "      <td>68548682</td>\n",
              "      <td>False</td>\n",
              "      <td>Аналитик (Розничные риски)</td>\n",
              "      <td>&lt;p&gt;Наша команда занимается управлением риском ...</td>\n",
              "      <td>[]</td>\n",
              "      <td>[{'id': '17.751', 'name': 'Другое', 'profarea_...</td>\n",
              "      <td>[{'id': '10', 'name': 'Аналитик'}]</td>\n",
              "      <td>2022-08-08</td>\n",
              "      <td>2022-08-08T09:25:55+0300</td>\n",
              "      <td>...</td>\n",
              "      <td>full</td>\n",
              "      <td>Полная занятость</td>\n",
              "      <td>3529-3529-prof</td>\n",
              "      <td>Сбер для экспертов</td>\n",
              "      <td>3529</td>\n",
              "      <td>NaN</td>\n",
              "      <td>NaN</td>\n",
              "      <td>NaN</td>\n",
              "      <td>0</td>\n",
              "      <td>Monday</td>\n",
              "    </tr>\n",
              "    <tr>\n",
              "      <th>52</th>\n",
              "      <td>3032</td>\n",
              "      <td>68563423</td>\n",
              "      <td>False</td>\n",
              "      <td>Data Analyst</td>\n",
              "      <td>&lt;p&gt;&lt;strong&gt;&lt;strong&gt;Основные задачи нашей коман...</td>\n",
              "      <td>[{'name': 'Spark'}]</td>\n",
              "      <td>[{'id': '1.221', 'name': 'Программирование, Ра...</td>\n",
              "      <td>[{'id': '96', 'name': 'Программист, разработчи...</td>\n",
              "      <td>2022-08-08</td>\n",
              "      <td>2022-08-08T12:46:23+0300</td>\n",
              "      <td>...</td>\n",
              "      <td>full</td>\n",
              "      <td>Полная занятость</td>\n",
              "      <td>3529-3529-prof</td>\n",
              "      <td>Сбер для экспертов</td>\n",
              "      <td>3529</td>\n",
              "      <td>NaN</td>\n",
              "      <td>NaN</td>\n",
              "      <td>NaN</td>\n",
              "      <td>0</td>\n",
              "      <td>Monday</td>\n",
              "    </tr>\n",
              "    <tr>\n",
              "      <th>54</th>\n",
              "      <td>3099</td>\n",
              "      <td>66099561</td>\n",
              "      <td>False</td>\n",
              "      <td>Data аналитик (Рекламная платформа)</td>\n",
              "      <td>&lt;p&gt;Кто мы? Продуктовая команда &amp;quot;Индустрии...</td>\n",
              "      <td>[{'name': 'Python'}, {'name': 'SQL'}, {'name':...</td>\n",
              "      <td>[{'id': '17.751', 'name': 'Другое', 'profarea_...</td>\n",
              "      <td>[{'id': '10', 'name': 'Аналитик'}]</td>\n",
              "      <td>2022-08-05</td>\n",
              "      <td>2022-05-26T09:46:27+0300</td>\n",
              "      <td>...</td>\n",
              "      <td>full</td>\n",
              "      <td>Полная занятость</td>\n",
              "      <td>3529-3529-it</td>\n",
              "      <td>Сбер. IT</td>\n",
              "      <td>3529</td>\n",
              "      <td>NaN</td>\n",
              "      <td>NaN</td>\n",
              "      <td>NaN</td>\n",
              "      <td>0</td>\n",
              "      <td>Friday</td>\n",
              "    </tr>\n",
              "  </tbody>\n",
              "</table>\n",
              "<p>5 rows × 26 columns</p>\n",
              "</div>\n",
              "      <button class=\"colab-df-convert\" onclick=\"convertToInteractive('df-2c23d696-1476-4ded-939e-e6be1d1739b6')\"\n",
              "              title=\"Convert this dataframe to an interactive table.\"\n",
              "              style=\"display:none;\">\n",
              "        \n",
              "  <svg xmlns=\"http://www.w3.org/2000/svg\" height=\"24px\"viewBox=\"0 0 24 24\"\n",
              "       width=\"24px\">\n",
              "    <path d=\"M0 0h24v24H0V0z\" fill=\"none\"/>\n",
              "    <path d=\"M18.56 5.44l.94 2.06.94-2.06 2.06-.94-2.06-.94-.94-2.06-.94 2.06-2.06.94zm-11 1L8.5 8.5l.94-2.06 2.06-.94-2.06-.94L8.5 2.5l-.94 2.06-2.06.94zm10 10l.94 2.06.94-2.06 2.06-.94-2.06-.94-.94-2.06-.94 2.06-2.06.94z\"/><path d=\"M17.41 7.96l-1.37-1.37c-.4-.4-.92-.59-1.43-.59-.52 0-1.04.2-1.43.59L10.3 9.45l-7.72 7.72c-.78.78-.78 2.05 0 2.83L4 21.41c.39.39.9.59 1.41.59.51 0 1.02-.2 1.41-.59l7.78-7.78 2.81-2.81c.8-.78.8-2.07 0-2.86zM5.41 20L4 18.59l7.72-7.72 1.47 1.35L5.41 20z\"/>\n",
              "  </svg>\n",
              "      </button>\n",
              "      \n",
              "  <style>\n",
              "    .colab-df-container {\n",
              "      display:flex;\n",
              "      flex-wrap:wrap;\n",
              "      gap: 12px;\n",
              "    }\n",
              "\n",
              "    .colab-df-convert {\n",
              "      background-color: #E8F0FE;\n",
              "      border: none;\n",
              "      border-radius: 50%;\n",
              "      cursor: pointer;\n",
              "      display: none;\n",
              "      fill: #1967D2;\n",
              "      height: 32px;\n",
              "      padding: 0 0 0 0;\n",
              "      width: 32px;\n",
              "    }\n",
              "\n",
              "    .colab-df-convert:hover {\n",
              "      background-color: #E2EBFA;\n",
              "      box-shadow: 0px 1px 2px rgba(60, 64, 67, 0.3), 0px 1px 3px 1px rgba(60, 64, 67, 0.15);\n",
              "      fill: #174EA6;\n",
              "    }\n",
              "\n",
              "    [theme=dark] .colab-df-convert {\n",
              "      background-color: #3B4455;\n",
              "      fill: #D2E3FC;\n",
              "    }\n",
              "\n",
              "    [theme=dark] .colab-df-convert:hover {\n",
              "      background-color: #434B5C;\n",
              "      box-shadow: 0px 1px 3px 1px rgba(0, 0, 0, 0.15);\n",
              "      filter: drop-shadow(0px 1px 2px rgba(0, 0, 0, 0.3));\n",
              "      fill: #FFFFFF;\n",
              "    }\n",
              "  </style>\n",
              "\n",
              "      <script>\n",
              "        const buttonEl =\n",
              "          document.querySelector('#df-2c23d696-1476-4ded-939e-e6be1d1739b6 button.colab-df-convert');\n",
              "        buttonEl.style.display =\n",
              "          google.colab.kernel.accessAllowed ? 'block' : 'none';\n",
              "\n",
              "        async function convertToInteractive(key) {\n",
              "          const element = document.querySelector('#df-2c23d696-1476-4ded-939e-e6be1d1739b6');\n",
              "          const dataTable =\n",
              "            await google.colab.kernel.invokeFunction('convertToInteractive',\n",
              "                                                     [key], {});\n",
              "          if (!dataTable) return;\n",
              "\n",
              "          const docLinkHtml = 'Like what you see? Visit the ' +\n",
              "            '<a target=\"_blank\" href=https://colab.research.google.com/notebooks/data_table.ipynb>data table notebook</a>'\n",
              "            + ' to learn more about interactive tables.';\n",
              "          element.innerHTML = '';\n",
              "          dataTable['output_type'] = 'display_data';\n",
              "          await google.colab.output.renderOutput(dataTable, element);\n",
              "          const docLink = document.createElement('div');\n",
              "          docLink.innerHTML = docLinkHtml;\n",
              "          element.appendChild(docLink);\n",
              "        }\n",
              "      </script>\n",
              "    </div>\n",
              "  </div>\n",
              "  "
            ]
          },
          "metadata": {},
          "execution_count": 177
        }
      ]
    },
    {
      "cell_type": "markdown",
      "source": [
        "Определите по полю skills какие навыки больше всего востребованы для этих вакансий"
      ],
      "metadata": {
        "id": "1qZ1DdrWYdAk"
      }
    },
    {
      "cell_type": "code",
      "source": [
        "analysts.skills = 0"
      ],
      "metadata": {
        "id": "WzypTDbBQnut"
      },
      "execution_count": 102,
      "outputs": []
    },
    {
      "cell_type": "code",
      "source": [
        "analysts_skills = []\n",
        "for i in tqdm(range(len(analysts))):\n",
        "  b = [c.get('name') for c in analysts.key_skills[i]]\n",
        "  analysts_skills.extend(b)\n"
      ],
      "metadata": {
        "colab": {
          "base_uri": "https://localhost:8080/",
          "height": 49,
          "referenced_widgets": [
            "0e4d6edeb3fd467b988c327120708ed6",
            "39d31184babc49af8b92c56e27abbad2",
            "6eed6a39b0794866a0357a4fff9707bd",
            "05513b819f5949cc992e82a31cc87725",
            "c6d84a4baf75490896fdfbc478bc4e32",
            "52bf8e93e3214d89a538b9a21822fa85",
            "4fdba83c042f4669a2d3b06258afeb58",
            "a0830dcec73a4cde96d5de3b616c7511",
            "8a2e204426bd4a219a1cd4c97be866ba",
            "aeb1098fd7804836b2884f6902699018",
            "3f34bcc4446143e1b80048262bcb58b9"
          ]
        },
        "id": "aZgmIHc1MsZh",
        "outputId": "4b7254af-8bc2-443f-bf82-0ae278acd7d2"
      },
      "execution_count": 143,
      "outputs": [
        {
          "output_type": "display_data",
          "data": {
            "text/plain": [
              "  0%|          | 0/57 [00:00<?, ?it/s]"
            ],
            "application/vnd.jupyter.widget-view+json": {
              "version_major": 2,
              "version_minor": 0,
              "model_id": "0e4d6edeb3fd467b988c327120708ed6"
            }
          },
          "metadata": {}
        }
      ]
    },
    {
      "cell_type": "code",
      "source": [
        ""
      ],
      "metadata": {
        "id": "RXRi3ioVYcyy"
      },
      "execution_count": null,
      "outputs": []
    },
    {
      "cell_type": "code",
      "source": [
        "from collections import Counter"
      ],
      "metadata": {
        "id": "nO08Uji5Qnqk"
      },
      "execution_count": 110,
      "outputs": []
    },
    {
      "cell_type": "code",
      "source": [
        "skills_count = Counter(analysts_skills)\n",
        "skills_count.most_common(10)"
      ],
      "metadata": {
        "colab": {
          "base_uri": "https://localhost:8080/"
        },
        "id": "RawvwoKzQnmG",
        "outputId": "2c914fad-19e7-4d0a-8c71-a02159b0ecb1"
      },
      "execution_count": 152,
      "outputs": [
        {
          "output_type": "execute_result",
          "data": {
            "text/plain": [
              "[('SQL', 22),\n",
              " ('Python', 20),\n",
              " ('Анализ данных', 8),\n",
              " ('Java', 4),\n",
              " ('Atlassian Jira', 4),\n",
              " ('Hive', 4),\n",
              " ('Математическая статистика', 3),\n",
              " ('Hadoop', 3),\n",
              " ('SCALA', 2),\n",
              " ('Big Data', 2)]"
            ]
          },
          "metadata": {},
          "execution_count": 152
        }
      ]
    },
    {
      "cell_type": "markdown",
      "source": [
        "Постройте график наиболее востребованных навыков для аналитика данных"
      ],
      "metadata": {
        "id": "ds8v-mOYYq69"
      }
    },
    {
      "cell_type": "code",
      "source": [
        "m = pd.Series(skills_count)"
      ],
      "metadata": {
        "id": "nxL6QEsyaMw_"
      },
      "execution_count": 191,
      "outputs": []
    },
    {
      "cell_type": "code",
      "source": [
        "m"
      ],
      "metadata": {
        "colab": {
          "base_uri": "https://localhost:8080/"
        },
        "id": "EMU4Gmp_aX0P",
        "outputId": "fb2cf556-f0b9-4ad6-f78b-1bba85ca8ee1"
      },
      "execution_count": 192,
      "outputs": [
        {
          "output_type": "execute_result",
          "data": {
            "text/plain": [
              "Python                          20\n",
              "SCALA                            2\n",
              "Big Data                         2\n",
              "SQL                             22\n",
              "Java                             4\n",
              "Математическая статистика        3\n",
              "Математический анализ            2\n",
              "MS PowerPoint                    2\n",
              "Анализ данных                    8\n",
              "Аналитическое мышление           2\n",
              "Ориентация на результат          2\n",
              "C++                              2\n",
              "Системное мышление               2\n",
              "REST                             2\n",
              "UML                              2\n",
              "BPMN                             2\n",
              "Atlassian Jira                   4\n",
              "SOAP                             2\n",
              "Teradata                         2\n",
              "MS SQL                           2\n",
              "Навыки презентации               2\n",
              "Аналитика                        2\n",
              "Qlik View                        2\n",
              "PowerPoint                       2\n",
              "BI                               2\n",
              "ORACLE                           2\n",
              "Sas                              2\n",
              "Agile                            2\n",
              "Hive                             4\n",
              "Работа в команде                 2\n",
              "Умение работать в команде        2\n",
              "Умение работать в коллективе     2\n",
              "Способность обучать других       2\n",
              "Материальная ответственность     2\n",
              "ML                               2\n",
              "pandas                           2\n",
              "A/B тесты                        2\n",
              "Ad Hoc Analysis                  2\n",
              "Hadoop                           3\n",
              "Статистический анализ            1\n",
              "Qlik Sense                       1\n",
              "Excel                            1\n",
              "Базы данных                      1\n",
              "Spark                            2\n",
              "Data Mining                      1\n",
              "Oracle BI                        1\n",
              "DWH                              1\n",
              "Greenplum                        1\n",
              "dtype: int64"
            ]
          },
          "metadata": {},
          "execution_count": 192
        }
      ]
    },
    {
      "cell_type": "code",
      "source": [
        "m.nlargest(10).sort_values(ascending = True).plot(kind = 'barh')"
      ],
      "metadata": {
        "colab": {
          "base_uri": "https://localhost:8080/",
          "height": 283
        },
        "id": "_dWp-o50ag7W",
        "outputId": "b66aa8ec-6224-46b4-d57a-1f670d66fe4e"
      },
      "execution_count": 199,
      "outputs": [
        {
          "output_type": "execute_result",
          "data": {
            "text/plain": [
              "<matplotlib.axes._subplots.AxesSubplot at 0x7f93b1004ed0>"
            ]
          },
          "metadata": {},
          "execution_count": 199
        },
        {
          "output_type": "display_data",
          "data": {
            "text/plain": [
              "<Figure size 432x288 with 1 Axes>"
            ],
            "image/png": "[encoded data removed]"
          },
          "metadata": {
            "needs_background": "light"
          }
        }
      ]
    },
    {
      "cell_type": "code",
      "source": [
        ""
      ],
      "metadata": {
        "id": "TOeCMm6Fa66D"
      },
      "execution_count": null,
      "outputs": []
    },
    {
      "cell_type": "code",
      "source": [
        ""
      ],
      "metadata": {
        "id": "I9pKXTiOa63f"
      },
      "execution_count": null,
      "outputs": []
    },
    {
      "cell_type": "code",
      "execution_count": null,
      "outputs": [],
      "source": [
        "#[x.get('name') for x in [{'name':'SQL'},{'name':'Python'},{'name':'Git'}]]"
      ],
      "metadata": {
        "pycharm": {
          "name": "#%%\n"
        },
        "id": "1Z2xp3Zo--PD"
      }
    }
  ],
  "metadata": {
    "kernelspec": {
      "display_name": "Python 3",
      "language": "python",
      "name": "python3"
    },
    "language_info": {
      "codemirror_mode": {
        "name": "ipython",
        "version": 3
      },
      "file_extension": ".py",
      "mimetype": "text/x-python",
      "name": "python",
      "nbconvert_exporter": "python",
      "pygments_lexer": "ipython3",
      "version": "3.8.5"
    },
    "colab": {
      "name": "ДЗ2.\"HH-api-hometask.ipynb\"",
      "provenance": [],
      "include_colab_link": true
    },
    "widgets": {
      "application/vnd.jupyter.widget-state+json": {
        "5c9c8f7d3f724f90be6cf028531004ef": {
          "model_module": "@jupyter-widgets/controls",
          "model_name": "HBoxModel",
          "model_module_version": "1.5.0",
          "state": {
            "_dom_classes": [],
            "_model_module": "@jupyter-widgets/controls",
            "_model_module_version": "1.5.0",
            "_model_name": "HBoxModel",
            "_view_count": null,
            "_view_module": "@jupyter-widgets/controls",
            "_view_module_version": "1.5.0",
            "_view_name": "HBoxView",
            "box_style": "",
            "children": [
              "IPY_MODEL_b0317fdef142492fb6226943e528540c",
              "IPY_MODEL_353731f5da1748978db155d80bf92ee5",
              "IPY_MODEL_0a940fd7a7fb4bb2a19157401b46db98"
            ],
            "layout": "IPY_MODEL_e38df03800b04b50bb736b21c9f351ac"
          }
        },
        "b0317fdef142492fb6226943e528540c": {
          "model_module": "@jupyter-widgets/controls",
          "model_name": "HTMLModel",
          "model_module_version": "1.5.0",
          "state": {
            "_dom_classes": [],
            "_model_module": "@jupyter-widgets/controls",
            "_model_module_version": "1.5.0",
            "_model_name": "HTMLModel",
            "_view_count": null,
            "_view_module": "@jupyter-widgets/controls",
            "_view_module_version": "1.5.0",
            "_view_name": "HTMLView",
            "description": "",
            "description_tooltip": null,
            "layout": "IPY_MODEL_9e6b1e6947c24368a345dbfb041df5ff",
            "placeholder": "​",
            "style": "IPY_MODEL_9f9d64d1c28142f19ac0149a105a76f3",
            "value": "100%"
          }
        },
        "353731f5da1748978db155d80bf92ee5": {
          "model_module": "@jupyter-widgets/controls",
          "model_name": "FloatProgressModel",
          "model_module_version": "1.5.0",
          "state": {
            "_dom_classes": [],
            "_model_module": "@jupyter-widgets/controls",
            "_model_module_version": "1.5.0",
            "_model_name": "FloatProgressModel",
            "_view_count": null,
            "_view_module": "@jupyter-widgets/controls",
            "_view_module_version": "1.5.0",
            "_view_name": "ProgressView",
            "bar_style": "success",
            "description": "",
            "description_tooltip": null,
            "layout": "IPY_MODEL_f03112ba0cfa46c1adb07514aeefaa58",
            "max": 14,
            "min": 0,
            "orientation": "horizontal",
            "style": "IPY_MODEL_e1a8b12f2daf4a65b4f2c8b29f7ee18a",
            "value": 14
          }
        },
        "0a940fd7a7fb4bb2a19157401b46db98": {
          "model_module": "@jupyter-widgets/controls",
          "model_name": "HTMLModel",
          "model_module_version": "1.5.0",
          "state": {
            "_dom_classes": [],
            "_model_module": "@jupyter-widgets/controls",
            "_model_module_version": "1.5.0",
            "_model_name": "HTMLModel",
            "_view_count": null,
            "_view_module": "@jupyter-widgets/controls",
            "_view_module_version": "1.5.0",
            "_view_name": "HTMLView",
            "description": "",
            "description_tooltip": null,
            "layout": "IPY_MODEL_ce297c951f5447a8949d2940568bf2aa",
            "placeholder": "​",
            "style": "IPY_MODEL_f7acf9f724a44a4dba43a83270990a16",
            "value": " 14/14 [00:16&lt;00:00,  1.13s/it]"
          }
        },
        "e38df03800b04b50bb736b21c9f351ac": {
          "model_module": "@jupyter-widgets/base",
          "model_name": "LayoutModel",
          "model_module_version": "1.2.0",
          "state": {
            "_model_module": "@jupyter-widgets/base",
            "_model_module_version": "1.2.0",
            "_model_name": "LayoutModel",
            "_view_count": null,
            "_view_module": "@jupyter-widgets/base",
            "_view_module_version": "1.2.0",
            "_view_name": "LayoutView",
            "align_content": null,
            "align_items": null,
            "align_self": null,
            "border": null,
            "bottom": null,
            "display": null,
            "flex": null,
            "flex_flow": null,
            "grid_area": null,
            "grid_auto_columns": null,
            "grid_auto_flow": null,
            "grid_auto_rows": null,
            "grid_column": null,
            "grid_gap": null,
            "grid_row": null,
            "grid_template_areas": null,
            "grid_template_columns": null,
            "grid_template_rows": null,
            "height": null,
            "justify_content": null,
            "justify_items": null,
            "left": null,
            "margin": null,
            "max_height": null,
            "max_width": null,
            "min_height": null,
            "min_width": null,
            "object_fit": null,
            "object_position": null,
            "order": null,
            "overflow": null,
            "overflow_x": null,
            "overflow_y": null,
            "padding": null,
            "right": null,
            "top": null,
            "visibility": null,
            "width": null
          }
        },
        "9e6b1e6947c24368a345dbfb041df5ff": {
          "model_module": "@jupyter-widgets/base",
          "model_name": "LayoutModel",
          "model_module_version": "1.2.0",
          "state": {
            "_model_module": "@jupyter-widgets/base",
            "_model_module_version": "1.2.0",
            "_model_name": "LayoutModel",
            "_view_count": null,
            "_view_module": "@jupyter-widgets/base",
            "_view_module_version": "1.2.0",
            "_view_name": "LayoutView",
            "align_content": null,
            "align_items": null,
            "align_self": null,
            "border": null,
            "bottom": null,
            "display": null,
            "flex": null,
            "flex_flow": null,
            "grid_area": null,
            "grid_auto_columns": null,
            "grid_auto_flow": null,
            "grid_auto_rows": null,
            "grid_column": null,
            "grid_gap": null,
            "grid_row": null,
            "grid_template_areas": null,
            "grid_template_columns": null,
            "grid_template_rows": null,
            "height": null,
            "justify_content": null,
            "justify_items": null,
            "left": null,
            "margin": null,
            "max_height": null,
            "max_width": null,
            "min_height": null,
            "min_width": null,
            "object_fit": null,
            "object_position": null,
            "order": null,
            "overflow": null,
            "overflow_x": null,
            "overflow_y": null,
            "padding": null,
            "right": null,
            "top": null,
            "visibility": null,
            "width": null
          }
        },
        "9f9d64d1c28142f19ac0149a105a76f3": {
          "model_module": "@jupyter-widgets/controls",
          "model_name": "DescriptionStyleModel",
          "model_module_version": "1.5.0",
          "state": {
            "_model_module": "@jupyter-widgets/controls",
            "_model_module_version": "1.5.0",
            "_model_name": "DescriptionStyleModel",
            "_view_count": null,
            "_view_module": "@jupyter-widgets/base",
            "_view_module_version": "1.2.0",
            "_view_name": "StyleView",
            "description_width": ""
          }
        },
        "f03112ba0cfa46c1adb07514aeefaa58": {
          "model_module": "@jupyter-widgets/base",
          "model_name": "LayoutModel",
          "model_module_version": "1.2.0",
          "state": {
            "_model_module": "@jupyter-widgets/base",
            "_model_module_version": "1.2.0",
            "_model_name": "LayoutModel",
            "_view_count": null,
            "_view_module": "@jupyter-widgets/base",
            "_view_module_version": "1.2.0",
            "_view_name": "LayoutView",
            "align_content": null,
            "align_items": null,
            "align_self": null,
            "border": null,
            "bottom": null,
            "display": null,
            "flex": null,
            "flex_flow": null,
            "grid_area": null,
            "grid_auto_columns": null,
            "grid_auto_flow": null,
            "grid_auto_rows": null,
            "grid_column": null,
            "grid_gap": null,
            "grid_row": null,
            "grid_template_areas": null,
            "grid_template_columns": null,
            "grid_template_rows": null,
            "height": null,
            "justify_content": null,
            "justify_items": null,
            "left": null,
            "margin": null,
            "max_height": null,
            "max_width": null,
            "min_height": null,
            "min_width": null,
            "object_fit": null,
            "object_position": null,
            "order": null,
            "overflow": null,
            "overflow_x": null,
            "overflow_y": null,
            "padding": null,
            "right": null,
            "top": null,
            "visibility": null,
            "width": null
          }
        },
        "e1a8b12f2daf4a65b4f2c8b29f7ee18a": {
          "model_module": "@jupyter-widgets/controls",
          "model_name": "ProgressStyleModel",
          "model_module_version": "1.5.0",
          "state": {
            "_model_module": "@jupyter-widgets/controls",
            "_model_module_version": "1.5.0",
            "_model_name": "ProgressStyleModel",
            "_view_count": null,
            "_view_module": "@jupyter-widgets/base",
            "_view_module_version": "1.2.0",
            "_view_name": "StyleView",
            "bar_color": null,
            "description_width": ""
          }
        },
        "ce297c951f5447a8949d2940568bf2aa": {
          "model_module": "@jupyter-widgets/base",
          "model_name": "LayoutModel",
          "model_module_version": "1.2.0",
          "state": {
            "_model_module": "@jupyter-widgets/base",
            "_model_module_version": "1.2.0",
            "_model_name": "LayoutModel",
            "_view_count": null,
            "_view_module": "@jupyter-widgets/base",
            "_view_module_version": "1.2.0",
            "_view_name": "LayoutView",
            "align_content": null,
            "align_items": null,
            "align_self": null,
            "border": null,
            "bottom": null,
            "display": null,
            "flex": null,
            "flex_flow": null,
            "grid_area": null,
            "grid_auto_columns": null,
            "grid_auto_flow": null,
            "grid_auto_rows": null,
            "grid_column": null,
            "grid_gap": null,
            "grid_row": null,
            "grid_template_areas": null,
            "grid_template_columns": null,
            "grid_template_rows": null,
            "height": null,
            "justify_content": null,
            "justify_items": null,
            "left": null,
            "margin": null,
            "max_height": null,
            "max_width": null,
            "min_height": null,
            "min_width": null,
            "object_fit": null,
            "object_position": null,
            "order": null,
            "overflow": null,
            "overflow_x": null,
            "overflow_y": null,
            "padding": null,
            "right": null,
            "top": null,
            "visibility": null,
            "width": null
          }
        },
        "f7acf9f724a44a4dba43a83270990a16": {
          "model_module": "@jupyter-widgets/controls",
          "model_name": "DescriptionStyleModel",
          "model_module_version": "1.5.0",
          "state": {
            "_model_module": "@jupyter-widgets/controls",
            "_model_module_version": "1.5.0",
            "_model_name": "DescriptionStyleModel",
            "_view_count": null,
            "_view_module": "@jupyter-widgets/base",
            "_view_module_version": "1.2.0",
            "_view_name": "StyleView",
            "description_width": ""
          }
        },
        "c9fcf0f1ee74473ebbfbcdaedc7e4fef": {
          "model_module": "@jupyter-widgets/controls",
          "model_name": "HBoxModel",
          "model_module_version": "1.5.0",
          "state": {
            "_dom_classes": [],
            "_model_module": "@jupyter-widgets/controls",
            "_model_module_version": "1.5.0",
            "_model_name": "HBoxModel",
            "_view_count": null,
            "_view_module": "@jupyter-widgets/controls",
            "_view_module_version": "1.5.0",
            "_view_name": "HBoxView",
            "box_style": "",
            "children": [
              "IPY_MODEL_95145bc2d4b247b688e5409fb1bec160",
              "IPY_MODEL_c6f730d101f34bc4a2ea5413becc568f",
              "IPY_MODEL_be7ae1351e4f4c979acca975bf031cb1"
            ],
            "layout": "IPY_MODEL_ca6ce0e564474ba79db30e014e4d326c"
          }
        },
        "95145bc2d4b247b688e5409fb1bec160": {
          "model_module": "@jupyter-widgets/controls",
          "model_name": "HTMLModel",
          "model_module_version": "1.5.0",
          "state": {
            "_dom_classes": [],
            "_model_module": "@jupyter-widgets/controls",
            "_model_module_version": "1.5.0",
            "_model_name": "HTMLModel",
            "_view_count": null,
            "_view_module": "@jupyter-widgets/controls",
            "_view_module_version": "1.5.0",
            "_view_name": "HTMLView",
            "description": "",
            "description_tooltip": null,
            "layout": "IPY_MODEL_b6b0a8f7f55e4c7f941f1fb15127c31d",
            "placeholder": "​",
            "style": "IPY_MODEL_76e9c36f2e66412a95e07fe82c5f3f81",
            "value": "100%"
          }
        },
        "c6f730d101f34bc4a2ea5413becc568f": {
          "model_module": "@jupyter-widgets/controls",
          "model_name": "FloatProgressModel",
          "model_module_version": "1.5.0",
          "state": {
            "_dom_classes": [],
            "_model_module": "@jupyter-widgets/controls",
            "_model_module_version": "1.5.0",
            "_model_name": "FloatProgressModel",
            "_view_count": null,
            "_view_module": "@jupyter-widgets/controls",
            "_view_module_version": "1.5.0",
            "_view_name": "ProgressView",
            "bar_style": "success",
            "description": "",
            "description_tooltip": null,
            "layout": "IPY_MODEL_cdbe4cb7ebdd4eb5bcae0ab649a4b368",
            "max": 14,
            "min": 0,
            "orientation": "horizontal",
            "style": "IPY_MODEL_7cc415a2a98a458595a6c47b66ef2dbf",
            "value": 14
          }
        },
        "be7ae1351e4f4c979acca975bf031cb1": {
          "model_module": "@jupyter-widgets/controls",
          "model_name": "HTMLModel",
          "model_module_version": "1.5.0",
          "state": {
            "_dom_classes": [],
            "_model_module": "@jupyter-widgets/controls",
            "_model_module_version": "1.5.0",
            "_model_name": "HTMLModel",
            "_view_count": null,
            "_view_module": "@jupyter-widgets/controls",
            "_view_module_version": "1.5.0",
            "_view_name": "HTMLView",
            "description": "",
            "description_tooltip": null,
            "layout": "IPY_MODEL_d040187d17ac459098f265ecdc772d97",
            "placeholder": "​",
            "style": "IPY_MODEL_e4a7f7905ea742739c6aeb6f6b74e682",
            "value": " 14/14 [00:12&lt;00:00,  1.07it/s]"
          }
        },
        "ca6ce0e564474ba79db30e014e4d326c": {
          "model_module": "@jupyter-widgets/base",
          "model_name": "LayoutModel",
          "model_module_version": "1.2.0",
          "state": {
            "_model_module": "@jupyter-widgets/base",
            "_model_module_version": "1.2.0",
            "_model_name": "LayoutModel",
            "_view_count": null,
            "_view_module": "@jupyter-widgets/base",
            "_view_module_version": "1.2.0",
            "_view_name": "LayoutView",
            "align_content": null,
            "align_items": null,
            "align_self": null,
            "border": null,
            "bottom": null,
            "display": null,
            "flex": null,
            "flex_flow": null,
            "grid_area": null,
            "grid_auto_columns": null,
            "grid_auto_flow": null,
            "grid_auto_rows": null,
            "grid_column": null,
            "grid_gap": null,
            "grid_row": null,
            "grid_template_areas": null,
            "grid_template_columns": null,
            "grid_template_rows": null,
            "height": null,
            "justify_content": null,
            "justify_items": null,
            "left": null,
            "margin": null,
            "max_height": null,
            "max_width": null,
            "min_height": null,
            "min_width": null,
            "object_fit": null,
            "object_position": null,
            "order": null,
            "overflow": null,
            "overflow_x": null,
            "overflow_y": null,
            "padding": null,
            "right": null,
            "top": null,
            "visibility": null,
            "width": null
          }
        },
        "b6b0a8f7f55e4c7f941f1fb15127c31d": {
          "model_module": "@jupyter-widgets/base",
          "model_name": "LayoutModel",
          "model_module_version": "1.2.0",
          "state": {
            "_model_module": "@jupyter-widgets/base",
            "_model_module_version": "1.2.0",
            "_model_name": "LayoutModel",
            "_view_count": null,
            "_view_module": "@jupyter-widgets/base",
            "_view_module_version": "1.2.0",
            "_view_name": "LayoutView",
            "align_content": null,
            "align_items": null,
            "align_self": null,
            "border": null,
            "bottom": null,
            "display": null,
            "flex": null,
            "flex_flow": null,
            "grid_area": null,
            "grid_auto_columns": null,
            "grid_auto_flow": null,
            "grid_auto_rows": null,
            "grid_column": null,
            "grid_gap": null,
            "grid_row": null,
            "grid_template_areas": null,
            "grid_template_columns": null,
            "grid_template_rows": null,
            "height": null,
            "justify_content": null,
            "justify_items": null,
            "left": null,
            "margin": null,
            "max_height": null,
            "max_width": null,
            "min_height": null,
            "min_width": null,
            "object_fit": null,
            "object_position": null,
            "order": null,
            "overflow": null,
            "overflow_x": null,
            "overflow_y": null,
            "padding": null,
            "right": null,
            "top": null,
            "visibility": null,
            "width": null
          }
        },
        "76e9c36f2e66412a95e07fe82c5f3f81": {
          "model_module": "@jupyter-widgets/controls",
          "model_name": "DescriptionStyleModel",
          "model_module_version": "1.5.0",
          "state": {
            "_model_module": "@jupyter-widgets/controls",
            "_model_module_version": "1.5.0",
            "_model_name": "DescriptionStyleModel",
            "_view_count": null,
            "_view_module": "@jupyter-widgets/base",
            "_view_module_version": "1.2.0",
            "_view_name": "StyleView",
            "description_width": ""
          }
        },
        "cdbe4cb7ebdd4eb5bcae0ab649a4b368": {
          "model_module": "@jupyter-widgets/base",
          "model_name": "LayoutModel",
          "model_module_version": "1.2.0",
          "state": {
            "_model_module": "@jupyter-widgets/base",
            "_model_module_version": "1.2.0",
            "_model_name": "LayoutModel",
            "_view_count": null,
            "_view_module": "@jupyter-widgets/base",
            "_view_module_version": "1.2.0",
            "_view_name": "LayoutView",
            "align_content": null,
            "align_items": null,
            "align_self": null,
            "border": null,
            "bottom": null,
            "display": null,
            "flex": null,
            "flex_flow": null,
            "grid_area": null,
            "grid_auto_columns": null,
            "grid_auto_flow": null,
            "grid_auto_rows": null,
            "grid_column": null,
            "grid_gap": null,
            "grid_row": null,
            "grid_template_areas": null,
            "grid_template_columns": null,
            "grid_template_rows": null,
            "height": null,
            "justify_content": null,
            "justify_items": null,
            "left": null,
            "margin": null,
            "max_height": null,
            "max_width": null,
            "min_height": null,
            "min_width": null,
            "object_fit": null,
            "object_position": null,
            "order": null,
            "overflow": null,
            "overflow_x": null,
            "overflow_y": null,
            "padding": null,
            "right": null,
            "top": null,
            "visibility": null,
            "width": null
          }
        },
        "7cc415a2a98a458595a6c47b66ef2dbf": {
          "model_module": "@jupyter-widgets/controls",
          "model_name": "ProgressStyleModel",
          "model_module_version": "1.5.0",
          "state": {
            "_model_module": "@jupyter-widgets/controls",
            "_model_module_version": "1.5.0",
            "_model_name": "ProgressStyleModel",
            "_view_count": null,
            "_view_module": "@jupyter-widgets/base",
            "_view_module_version": "1.2.0",
            "_view_name": "StyleView",
            "bar_color": null,
            "description_width": ""
          }
        },
        "d040187d17ac459098f265ecdc772d97": {
          "model_module": "@jupyter-widgets/base",
          "model_name": "LayoutModel",
          "model_module_version": "1.2.0",
          "state": {
            "_model_module": "@jupyter-widgets/base",
            "_model_module_version": "1.2.0",
            "_model_name": "LayoutModel",
            "_view_count": null,
            "_view_module": "@jupyter-widgets/base",
            "_view_module_version": "1.2.0",
            "_view_name": "LayoutView",
            "align_content": null,
            "align_items": null,
            "align_self": null,
            "border": null,
            "bottom": null,
            "display": null,
            "flex": null,
            "flex_flow": null,
            "grid_area": null,
            "grid_auto_columns": null,
            "grid_auto_flow": null,
            "grid_auto_rows": null,
            "grid_column": null,
            "grid_gap": null,
            "grid_row": null,
            "grid_template_areas": null,
            "grid_template_columns": null,
            "grid_template_rows": null,
            "height": null,
            "justify_content": null,
            "justify_items": null,
            "left": null,
            "margin": null,
            "max_height": null,
            "max_width": null,
            "min_height": null,
            "min_width": null,
            "object_fit": null,
            "object_position": null,
            "order": null,
            "overflow": null,
            "overflow_x": null,
            "overflow_y": null,
            "padding": null,
            "right": null,
            "top": null,
            "visibility": null,
            "width": null
          }
        },
        "e4a7f7905ea742739c6aeb6f6b74e682": {
          "model_module": "@jupyter-widgets/controls",
          "model_name": "DescriptionStyleModel",
          "model_module_version": "1.5.0",
          "state": {
            "_model_module": "@jupyter-widgets/controls",
            "_model_module_version": "1.5.0",
            "_model_name": "DescriptionStyleModel",
            "_view_count": null,
            "_view_module": "@jupyter-widgets/base",
            "_view_module_version": "1.2.0",
            "_view_name": "StyleView",
            "description_width": ""
          }
        },
        "0d273d0129c848eea42c5d76e05b3321": {
          "model_module": "@jupyter-widgets/controls",
          "model_name": "HBoxModel",
          "model_module_version": "1.5.0",
          "state": {
            "_dom_classes": [],
            "_model_module": "@jupyter-widgets/controls",
            "_model_module_version": "1.5.0",
            "_model_name": "HBoxModel",
            "_view_count": null,
            "_view_module": "@jupyter-widgets/controls",
            "_view_module_version": "1.5.0",
            "_view_name": "HBoxView",
            "box_style": "",
            "children": [
              "IPY_MODEL_2a84b835737b4379a380aa452fe38eb2",
              "IPY_MODEL_cfb2f825a8d840b29ffb6427ae7805ff",
              "IPY_MODEL_9597d65f83c049f9977f4702b2176991"
            ],
            "layout": "IPY_MODEL_2fd6a1d4f96c44ffa7950fbb696537c8"
          }
        },
        "2a84b835737b4379a380aa452fe38eb2": {
          "model_module": "@jupyter-widgets/controls",
          "model_name": "HTMLModel",
          "model_module_version": "1.5.0",
          "state": {
            "_dom_classes": [],
            "_model_module": "@jupyter-widgets/controls",
            "_model_module_version": "1.5.0",
            "_model_name": "HTMLModel",
            "_view_count": null,
            "_view_module": "@jupyter-widgets/controls",
            "_view_module_version": "1.5.0",
            "_view_name": "HTMLView",
            "description": "",
            "description_tooltip": null,
            "layout": "IPY_MODEL_4706802c0ce84cd59ca3680a7843e6f9",
            "placeholder": "​",
            "style": "IPY_MODEL_cd11923615734c6aa430fba0d54130e9",
            "value": "100%"
          }
        },
        "cfb2f825a8d840b29ffb6427ae7805ff": {
          "model_module": "@jupyter-widgets/controls",
          "model_name": "FloatProgressModel",
          "model_module_version": "1.5.0",
          "state": {
            "_dom_classes": [],
            "_model_module": "@jupyter-widgets/controls",
            "_model_module_version": "1.5.0",
            "_model_name": "FloatProgressModel",
            "_view_count": null,
            "_view_module": "@jupyter-widgets/controls",
            "_view_module_version": "1.5.0",
            "_view_name": "ProgressView",
            "bar_style": "success",
            "description": "",
            "description_tooltip": null,
            "layout": "IPY_MODEL_7280893c641c4be58d71cfbae7c50ca5",
            "max": 27,
            "min": 0,
            "orientation": "horizontal",
            "style": "IPY_MODEL_46ec72f65ce44a93a07603de0a1e869d",
            "value": 27
          }
        },
        "9597d65f83c049f9977f4702b2176991": {
          "model_module": "@jupyter-widgets/controls",
          "model_name": "HTMLModel",
          "model_module_version": "1.5.0",
          "state": {
            "_dom_classes": [],
            "_model_module": "@jupyter-widgets/controls",
            "_model_module_version": "1.5.0",
            "_model_name": "HTMLModel",
            "_view_count": null,
            "_view_module": "@jupyter-widgets/controls",
            "_view_module_version": "1.5.0",
            "_view_name": "HTMLView",
            "description": "",
            "description_tooltip": null,
            "layout": "IPY_MODEL_6a5d54f4de8443ba9c99e11c8158d7b6",
            "placeholder": "​",
            "style": "IPY_MODEL_454de466435c4acb84259b61b34c73d4",
            "value": " 27/27 [00:17&lt;00:00,  1.55it/s]"
          }
        },
        "2fd6a1d4f96c44ffa7950fbb696537c8": {
          "model_module": "@jupyter-widgets/base",
          "model_name": "LayoutModel",
          "model_module_version": "1.2.0",
          "state": {
            "_model_module": "@jupyter-widgets/base",
            "_model_module_version": "1.2.0",
            "_model_name": "LayoutModel",
            "_view_count": null,
            "_view_module": "@jupyter-widgets/base",
            "_view_module_version": "1.2.0",
            "_view_name": "LayoutView",
            "align_content": null,
            "align_items": null,
            "align_self": null,
            "border": null,
            "bottom": null,
            "display": null,
            "flex": null,
            "flex_flow": null,
            "grid_area": null,
            "grid_auto_columns": null,
            "grid_auto_flow": null,
            "grid_auto_rows": null,
            "grid_column": null,
            "grid_gap": null,
            "grid_row": null,
            "grid_template_areas": null,
            "grid_template_columns": null,
            "grid_template_rows": null,
            "height": null,
            "justify_content": null,
            "justify_items": null,
            "left": null,
            "margin": null,
            "max_height": null,
            "max_width": null,
            "min_height": null,
            "min_width": null,
            "object_fit": null,
            "object_position": null,
            "order": null,
            "overflow": null,
            "overflow_x": null,
            "overflow_y": null,
            "padding": null,
            "right": null,
            "top": null,
            "visibility": null,
            "width": null
          }
        },
        "4706802c0ce84cd59ca3680a7843e6f9": {
          "model_module": "@jupyter-widgets/base",
          "model_name": "LayoutModel",
          "model_module_version": "1.2.0",
          "state": {
            "_model_module": "@jupyter-widgets/base",
            "_model_module_version": "1.2.0",
            "_model_name": "LayoutModel",
            "_view_count": null,
            "_view_module": "@jupyter-widgets/base",
            "_view_module_version": "1.2.0",
            "_view_name": "LayoutView",
            "align_content": null,
            "align_items": null,
            "align_self": null,
            "border": null,
            "bottom": null,
            "display": null,
            "flex": null,
            "flex_flow": null,
            "grid_area": null,
            "grid_auto_columns": null,
            "grid_auto_flow": null,
            "grid_auto_rows": null,
            "grid_column": null,
            "grid_gap": null,
            "grid_row": null,
            "grid_template_areas": null,
            "grid_template_columns": null,
            "grid_template_rows": null,
            "height": null,
            "justify_content": null,
            "justify_items": null,
            "left": null,
            "margin": null,
            "max_height": null,
            "max_width": null,
            "min_height": null,
            "min_width": null,
            "object_fit": null,
            "object_position": null,
            "order": null,
            "overflow": null,
            "overflow_x": null,
            "overflow_y": null,
            "padding": null,
            "right": null,
            "top": null,
            "visibility": null,
            "width": null
          }
        },
        "cd11923615734c6aa430fba0d54130e9": {
          "model_module": "@jupyter-widgets/controls",
          "model_name": "DescriptionStyleModel",
          "model_module_version": "1.5.0",
          "state": {
            "_model_module": "@jupyter-widgets/controls",
            "_model_module_version": "1.5.0",
            "_model_name": "DescriptionStyleModel",
            "_view_count": null,
            "_view_module": "@jupyter-widgets/base",
            "_view_module_version": "1.2.0",
            "_view_name": "StyleView",
            "description_width": ""
          }
        },
        "7280893c641c4be58d71cfbae7c50ca5": {
          "model_module": "@jupyter-widgets/base",
          "model_name": "LayoutModel",
          "model_module_version": "1.2.0",
          "state": {
            "_model_module": "@jupyter-widgets/base",
            "_model_module_version": "1.2.0",
            "_model_name": "LayoutModel",
            "_view_count": null,
            "_view_module": "@jupyter-widgets/base",
            "_view_module_version": "1.2.0",
            "_view_name": "LayoutView",
            "align_content": null,
            "align_items": null,
            "align_self": null,
            "border": null,
            "bottom": null,
            "display": null,
            "flex": null,
            "flex_flow": null,
            "grid_area": null,
            "grid_auto_columns": null,
            "grid_auto_flow": null,
            "grid_auto_rows": null,
            "grid_column": null,
            "grid_gap": null,
            "grid_row": null,
            "grid_template_areas": null,
            "grid_template_columns": null,
            "grid_template_rows": null,
            "height": null,
            "justify_content": null,
            "justify_items": null,
            "left": null,
            "margin": null,
            "max_height": null,
            "max_width": null,
            "min_height": null,
            "min_width": null,
            "object_fit": null,
            "object_position": null,
            "order": null,
            "overflow": null,
            "overflow_x": null,
            "overflow_y": null,
            "padding": null,
            "right": null,
            "top": null,
            "visibility": null,
            "width": null
          }
        },
        "46ec72f65ce44a93a07603de0a1e869d": {
          "model_module": "@jupyter-widgets/controls",
          "model_name": "ProgressStyleModel",
          "model_module_version": "1.5.0",
          "state": {
            "_model_module": "@jupyter-widgets/controls",
            "_model_module_version": "1.5.0",
            "_model_name": "ProgressStyleModel",
            "_view_count": null,
            "_view_module": "@jupyter-widgets/base",
            "_view_module_version": "1.2.0",
            "_view_name": "StyleView",
            "bar_color": null,
            "description_width": ""
          }
        },
        "6a5d54f4de8443ba9c99e11c8158d7b6": {
          "model_module": "@jupyter-widgets/base",
          "model_name": "LayoutModel",
          "model_module_version": "1.2.0",
          "state": {
            "_model_module": "@jupyter-widgets/base",
            "_model_module_version": "1.2.0",
            "_model_name": "LayoutModel",
            "_view_count": null,
            "_view_module": "@jupyter-widgets/base",
            "_view_module_version": "1.2.0",
            "_view_name": "LayoutView",
            "align_content": null,
            "align_items": null,
            "align_self": null,
            "border": null,
            "bottom": null,
            "display": null,
            "flex": null,
            "flex_flow": null,
            "grid_area": null,
            "grid_auto_columns": null,
            "grid_auto_flow": null,
            "grid_auto_rows": null,
            "grid_column": null,
            "grid_gap": null,
            "grid_row": null,
            "grid_template_areas": null,
            "grid_template_columns": null,
            "grid_template_rows": null,
            "height": null,
            "justify_content": null,
            "justify_items": null,
            "left": null,
            "margin": null,
            "max_height": null,
            "max_width": null,
            "min_height": null,
            "min_width": null,
            "object_fit": null,
            "object_position": null,
            "order": null,
            "overflow": null,
            "overflow_x": null,
            "overflow_y": null,
            "padding": null,
            "right": null,
            "top": null,
            "visibility": null,
            "width": null
          }
        },
        "454de466435c4acb84259b61b34c73d4": {
          "model_module": "@jupyter-widgets/controls",
          "model_name": "DescriptionStyleModel",
          "model_module_version": "1.5.0",
          "state": {
            "_model_module": "@jupyter-widgets/controls",
            "_model_module_version": "1.5.0",
            "_model_name": "DescriptionStyleModel",
            "_view_count": null,
            "_view_module": "@jupyter-widgets/base",
            "_view_module_version": "1.2.0",
            "_view_name": "StyleView",
            "description_width": ""
          }
        },
        "7409f58fd65e4517b64e943ab6391853": {
          "model_module": "@jupyter-widgets/controls",
          "model_name": "HBoxModel",
          "model_module_version": "1.5.0",
          "state": {
            "_dom_classes": [],
            "_model_module": "@jupyter-widgets/controls",
            "_model_module_version": "1.5.0",
            "_model_name": "HBoxModel",
            "_view_count": null,
            "_view_module": "@jupyter-widgets/controls",
            "_view_module_version": "1.5.0",
            "_view_name": "HBoxView",
            "box_style": "",
            "children": [
              "IPY_MODEL_d70643dea20a4b5c88e3499a21a7192b",
              "IPY_MODEL_3c5f617162c64756974a0e350ff312c3",
              "IPY_MODEL_cfa52a885fdc45a1b3d759086561853a"
            ],
            "layout": "IPY_MODEL_acf5063e6c014a2faca27f29b9f842ba"
          }
        },
        "d70643dea20a4b5c88e3499a21a7192b": {
          "model_module": "@jupyter-widgets/controls",
          "model_name": "HTMLModel",
          "model_module_version": "1.5.0",
          "state": {
            "_dom_classes": [],
            "_model_module": "@jupyter-widgets/controls",
            "_model_module_version": "1.5.0",
            "_model_name": "HTMLModel",
            "_view_count": null,
            "_view_module": "@jupyter-widgets/controls",
            "_view_module_version": "1.5.0",
            "_view_name": "HTMLView",
            "description": "",
            "description_tooltip": null,
            "layout": "IPY_MODEL_80e768fb020a454d9eeda397c07fc04f",
            "placeholder": "​",
            "style": "IPY_MODEL_8c212dba9c7042a793f083848916d6fa",
            "value": "100%"
          }
        },
        "3c5f617162c64756974a0e350ff312c3": {
          "model_module": "@jupyter-widgets/controls",
          "model_name": "FloatProgressModel",
          "model_module_version": "1.5.0",
          "state": {
            "_dom_classes": [],
            "_model_module": "@jupyter-widgets/controls",
            "_model_module_version": "1.5.0",
            "_model_name": "FloatProgressModel",
            "_view_count": null,
            "_view_module": "@jupyter-widgets/controls",
            "_view_module_version": "1.5.0",
            "_view_name": "ProgressView",
            "bar_style": "success",
            "description": "",
            "description_tooltip": null,
            "layout": "IPY_MODEL_87329638f64f44618f3004247bd7425e",
            "max": 3302,
            "min": 0,
            "orientation": "horizontal",
            "style": "IPY_MODEL_98db139e4f73499a868abc1e8fe5cc9e",
            "value": 3302
          }
        },
        "cfa52a885fdc45a1b3d759086561853a": {
          "model_module": "@jupyter-widgets/controls",
          "model_name": "HTMLModel",
          "model_module_version": "1.5.0",
          "state": {
            "_dom_classes": [],
            "_model_module": "@jupyter-widgets/controls",
            "_model_module_version": "1.5.0",
            "_model_name": "HTMLModel",
            "_view_count": null,
            "_view_module": "@jupyter-widgets/controls",
            "_view_module_version": "1.5.0",
            "_view_name": "HTMLView",
            "description": "",
            "description_tooltip": null,
            "layout": "IPY_MODEL_388ff058180e4aca8887029bc425d7d9",
            "placeholder": "​",
            "style": "IPY_MODEL_b3a9949791834dd09bf95cecb249675c",
            "value": " 3302/3302 [1:30:56&lt;00:00,  1.73s/it]"
          }
        },
        "acf5063e6c014a2faca27f29b9f842ba": {
          "model_module": "@jupyter-widgets/base",
          "model_name": "LayoutModel",
          "model_module_version": "1.2.0",
          "state": {
            "_model_module": "@jupyter-widgets/base",
            "_model_module_version": "1.2.0",
            "_model_name": "LayoutModel",
            "_view_count": null,
            "_view_module": "@jupyter-widgets/base",
            "_view_module_version": "1.2.0",
            "_view_name": "LayoutView",
            "align_content": null,
            "align_items": null,
            "align_self": null,
            "border": null,
            "bottom": null,
            "display": null,
            "flex": null,
            "flex_flow": null,
            "grid_area": null,
            "grid_auto_columns": null,
            "grid_auto_flow": null,
            "grid_auto_rows": null,
            "grid_column": null,
            "grid_gap": null,
            "grid_row": null,
            "grid_template_areas": null,
            "grid_template_columns": null,
            "grid_template_rows": null,
            "height": null,
            "justify_content": null,
            "justify_items": null,
            "left": null,
            "margin": null,
            "max_height": null,
            "max_width": null,
            "min_height": null,
            "min_width": null,
            "object_fit": null,
            "object_position": null,
            "order": null,
            "overflow": null,
            "overflow_x": null,
            "overflow_y": null,
            "padding": null,
            "right": null,
            "top": null,
            "visibility": null,
            "width": null
          }
        },
        "80e768fb020a454d9eeda397c07fc04f": {
          "model_module": "@jupyter-widgets/base",
          "model_name": "LayoutModel",
          "model_module_version": "1.2.0",
          "state": {
            "_model_module": "@jupyter-widgets/base",
            "_model_module_version": "1.2.0",
            "_model_name": "LayoutModel",
            "_view_count": null,
            "_view_module": "@jupyter-widgets/base",
            "_view_module_version": "1.2.0",
            "_view_name": "LayoutView",
            "align_content": null,
            "align_items": null,
            "align_self": null,
            "border": null,
            "bottom": null,
            "display": null,
            "flex": null,
            "flex_flow": null,
            "grid_area": null,
            "grid_auto_columns": null,
            "grid_auto_flow": null,
            "grid_auto_rows": null,
            "grid_column": null,
            "grid_gap": null,
            "grid_row": null,
            "grid_template_areas": null,
            "grid_template_columns": null,
            "grid_template_rows": null,
            "height": null,
            "justify_content": null,
            "justify_items": null,
            "left": null,
            "margin": null,
            "max_height": null,
            "max_width": null,
            "min_height": null,
            "min_width": null,
            "object_fit": null,
            "object_position": null,
            "order": null,
            "overflow": null,
            "overflow_x": null,
            "overflow_y": null,
            "padding": null,
            "right": null,
            "top": null,
            "visibility": null,
            "width": null
          }
        },
        "8c212dba9c7042a793f083848916d6fa": {
          "model_module": "@jupyter-widgets/controls",
          "model_name": "DescriptionStyleModel",
          "model_module_version": "1.5.0",
          "state": {
            "_model_module": "@jupyter-widgets/controls",
            "_model_module_version": "1.5.0",
            "_model_name": "DescriptionStyleModel",
            "_view_count": null,
            "_view_module": "@jupyter-widgets/base",
            "_view_module_version": "1.2.0",
            "_view_name": "StyleView",
            "description_width": ""
          }
        },
        "87329638f64f44618f3004247bd7425e": {
          "model_module": "@jupyter-widgets/base",
          "model_name": "LayoutModel",
          "model_module_version": "1.2.0",
          "state": {
            "_model_module": "@jupyter-widgets/base",
            "_model_module_version": "1.2.0",
            "_model_name": "LayoutModel",
            "_view_count": null,
            "_view_module": "@jupyter-widgets/base",
            "_view_module_version": "1.2.0",
            "_view_name": "LayoutView",
            "align_content": null,
            "align_items": null,
            "align_self": null,
            "border": null,
            "bottom": null,
            "display": null,
            "flex": null,
            "flex_flow": null,
            "grid_area": null,
            "grid_auto_columns": null,
            "grid_auto_flow": null,
            "grid_auto_rows": null,
            "grid_column": null,
            "grid_gap": null,
            "grid_row": null,
            "grid_template_areas": null,
            "grid_template_columns": null,
            "grid_template_rows": null,
            "height": null,
            "justify_content": null,
            "justify_items": null,
            "left": null,
            "margin": null,
            "max_height": null,
            "max_width": null,
            "min_height": null,
            "min_width": null,
            "object_fit": null,
            "object_position": null,
            "order": null,
            "overflow": null,
            "overflow_x": null,
            "overflow_y": null,
            "padding": null,
            "right": null,
            "top": null,
            "visibility": null,
            "width": null
          }
        },
        "98db139e4f73499a868abc1e8fe5cc9e": {
          "model_module": "@jupyter-widgets/controls",
          "model_name": "ProgressStyleModel",
          "model_module_version": "1.5.0",
          "state": {
            "_model_module": "@jupyter-widgets/controls",
            "_model_module_version": "1.5.0",
            "_model_name": "ProgressStyleModel",
            "_view_count": null,
            "_view_module": "@jupyter-widgets/base",
            "_view_module_version": "1.2.0",
            "_view_name": "StyleView",
            "bar_color": null,
            "description_width": ""
          }
        },
        "388ff058180e4aca8887029bc425d7d9": {
          "model_module": "@jupyter-widgets/base",
          "model_name": "LayoutModel",
          "model_module_version": "1.2.0",
          "state": {
            "_model_module": "@jupyter-widgets/base",
            "_model_module_version": "1.2.0",
            "_model_name": "LayoutModel",
            "_view_count": null,
            "_view_module": "@jupyter-widgets/base",
            "_view_module_version": "1.2.0",
            "_view_name": "LayoutView",
            "align_content": null,
            "align_items": null,
            "align_self": null,
            "border": null,
            "bottom": null,
            "display": null,
            "flex": null,
            "flex_flow": null,
            "grid_area": null,
            "grid_auto_columns": null,
            "grid_auto_flow": null,
            "grid_auto_rows": null,
            "grid_column": null,
            "grid_gap": null,
            "grid_row": null,
            "grid_template_areas": null,
            "grid_template_columns": null,
            "grid_template_rows": null,
            "height": null,
            "justify_content": null,
            "justify_items": null,
            "left": null,
            "margin": null,
            "max_height": null,
            "max_width": null,
            "min_height": null,
            "min_width": null,
            "object_fit": null,
            "object_position": null,
            "order": null,
            "overflow": null,
            "overflow_x": null,
            "overflow_y": null,
            "padding": null,
            "right": null,
            "top": null,
            "visibility": null,
            "width": null
          }
        },
        "b3a9949791834dd09bf95cecb249675c": {
          "model_module": "@jupyter-widgets/controls",
          "model_name": "DescriptionStyleModel",
          "model_module_version": "1.5.0",
          "state": {
            "_model_module": "@jupyter-widgets/controls",
            "_model_module_version": "1.5.0",
            "_model_name": "DescriptionStyleModel",
            "_view_count": null,
            "_view_module": "@jupyter-widgets/base",
            "_view_module_version": "1.2.0",
            "_view_name": "StyleView",
            "description_width": ""
          }
        },
        "53c180e9773f41e7b4892e2fafd91eca": {
          "model_module": "@jupyter-widgets/controls",
          "model_name": "HBoxModel",
          "model_module_version": "1.5.0",
          "state": {
            "_dom_classes": [],
            "_model_module": "@jupyter-widgets/controls",
            "_model_module_version": "1.5.0",
            "_model_name": "HBoxModel",
            "_view_count": null,
            "_view_module": "@jupyter-widgets/controls",
            "_view_module_version": "1.5.0",
            "_view_name": "HBoxView",
            "box_style": "",
            "children": [
              "IPY_MODEL_d6839c89a7e74a83919857274fae7acf",
              "IPY_MODEL_c5571f6722824fc48f5a506f305ea66d",
              "IPY_MODEL_29f51b67ac924767abc6cda1590ee9fd"
            ],
            "layout": "IPY_MODEL_09ad438c4e5145ab8afb94d61984dcda"
          }
        },
        "d6839c89a7e74a83919857274fae7acf": {
          "model_module": "@jupyter-widgets/controls",
          "model_name": "HTMLModel",
          "model_module_version": "1.5.0",
          "state": {
            "_dom_classes": [],
            "_model_module": "@jupyter-widgets/controls",
            "_model_module_version": "1.5.0",
            "_model_name": "HTMLModel",
            "_view_count": null,
            "_view_module": "@jupyter-widgets/controls",
            "_view_module_version": "1.5.0",
            "_view_name": "HTMLView",
            "description": "",
            "description_tooltip": null,
            "layout": "IPY_MODEL_1c6391b0fb334be9aa4b2c243e0dd77e",
            "placeholder": "​",
            "style": "IPY_MODEL_698c248a767542ba9f5259a05cdb89b8",
            "value": "100%"
          }
        },
        "c5571f6722824fc48f5a506f305ea66d": {
          "model_module": "@jupyter-widgets/controls",
          "model_name": "FloatProgressModel",
          "model_module_version": "1.5.0",
          "state": {
            "_dom_classes": [],
            "_model_module": "@jupyter-widgets/controls",
            "_model_module_version": "1.5.0",
            "_model_name": "FloatProgressModel",
            "_view_count": null,
            "_view_module": "@jupyter-widgets/controls",
            "_view_module_version": "1.5.0",
            "_view_name": "ProgressView",
            "bar_style": "success",
            "description": "",
            "description_tooltip": null,
            "layout": "IPY_MODEL_fd3a5097a2044b0486d46755694ac1b3",
            "max": 3302,
            "min": 0,
            "orientation": "horizontal",
            "style": "IPY_MODEL_4ed560641e724c0cb0a461be4edc7825",
            "value": 3302
          }
        },
        "29f51b67ac924767abc6cda1590ee9fd": {
          "model_module": "@jupyter-widgets/controls",
          "model_name": "HTMLModel",
          "model_module_version": "1.5.0",
          "state": {
            "_dom_classes": [],
            "_model_module": "@jupyter-widgets/controls",
            "_model_module_version": "1.5.0",
            "_model_name": "HTMLModel",
            "_view_count": null,
            "_view_module": "@jupyter-widgets/controls",
            "_view_module_version": "1.5.0",
            "_view_name": "HTMLView",
            "description": "",
            "description_tooltip": null,
            "layout": "IPY_MODEL_e5220a903007471b99f743f4dbaf814a",
            "placeholder": "​",
            "style": "IPY_MODEL_0a1e9ad12aec4a6c9ca92dce310d1e6c",
            "value": " 3302/3302 [00:00&lt;00:00, 13399.79it/s]"
          }
        },
        "09ad438c4e5145ab8afb94d61984dcda": {
          "model_module": "@jupyter-widgets/base",
          "model_name": "LayoutModel",
          "model_module_version": "1.2.0",
          "state": {
            "_model_module": "@jupyter-widgets/base",
            "_model_module_version": "1.2.0",
            "_model_name": "LayoutModel",
            "_view_count": null,
            "_view_module": "@jupyter-widgets/base",
            "_view_module_version": "1.2.0",
            "_view_name": "LayoutView",
            "align_content": null,
            "align_items": null,
            "align_self": null,
            "border": null,
            "bottom": null,
            "display": null,
            "flex": null,
            "flex_flow": null,
            "grid_area": null,
            "grid_auto_columns": null,
            "grid_auto_flow": null,
            "grid_auto_rows": null,
            "grid_column": null,
            "grid_gap": null,
            "grid_row": null,
            "grid_template_areas": null,
            "grid_template_columns": null,
            "grid_template_rows": null,
            "height": null,
            "justify_content": null,
            "justify_items": null,
            "left": null,
            "margin": null,
            "max_height": null,
            "max_width": null,
            "min_height": null,
            "min_width": null,
            "object_fit": null,
            "object_position": null,
            "order": null,
            "overflow": null,
            "overflow_x": null,
            "overflow_y": null,
            "padding": null,
            "right": null,
            "top": null,
            "visibility": null,
            "width": null
          }
        },
        "1c6391b0fb334be9aa4b2c243e0dd77e": {
          "model_module": "@jupyter-widgets/base",
          "model_name": "LayoutModel",
          "model_module_version": "1.2.0",
          "state": {
            "_model_module": "@jupyter-widgets/base",
            "_model_module_version": "1.2.0",
            "_model_name": "LayoutModel",
            "_view_count": null,
            "_view_module": "@jupyter-widgets/base",
            "_view_module_version": "1.2.0",
            "_view_name": "LayoutView",
            "align_content": null,
            "align_items": null,
            "align_self": null,
            "border": null,
            "bottom": null,
            "display": null,
            "flex": null,
            "flex_flow": null,
            "grid_area": null,
            "grid_auto_columns": null,
            "grid_auto_flow": null,
            "grid_auto_rows": null,
            "grid_column": null,
            "grid_gap": null,
            "grid_row": null,
            "grid_template_areas": null,
            "grid_template_columns": null,
            "grid_template_rows": null,
            "height": null,
            "justify_content": null,
            "justify_items": null,
            "left": null,
            "margin": null,
            "max_height": null,
            "max_width": null,
            "min_height": null,
            "min_width": null,
            "object_fit": null,
            "object_position": null,
            "order": null,
            "overflow": null,
            "overflow_x": null,
            "overflow_y": null,
            "padding": null,
            "right": null,
            "top": null,
            "visibility": null,
            "width": null
          }
        },
        "698c248a767542ba9f5259a05cdb89b8": {
          "model_module": "@jupyter-widgets/controls",
          "model_name": "DescriptionStyleModel",
          "model_module_version": "1.5.0",
          "state": {
            "_model_module": "@jupyter-widgets/controls",
            "_model_module_version": "1.5.0",
            "_model_name": "DescriptionStyleModel",
            "_view_count": null,
            "_view_module": "@jupyter-widgets/base",
            "_view_module_version": "1.2.0",
            "_view_name": "StyleView",
            "description_width": ""
          }
        },
        "fd3a5097a2044b0486d46755694ac1b3": {
          "model_module": "@jupyter-widgets/base",
          "model_name": "LayoutModel",
          "model_module_version": "1.2.0",
          "state": {
            "_model_module": "@jupyter-widgets/base",
            "_model_module_version": "1.2.0",
            "_model_name": "LayoutModel",
            "_view_count": null,
            "_view_module": "@jupyter-widgets/base",
            "_view_module_version": "1.2.0",
            "_view_name": "LayoutView",
            "align_content": null,
            "align_items": null,
            "align_self": null,
            "border": null,
            "bottom": null,
            "display": null,
            "flex": null,
            "flex_flow": null,
            "grid_area": null,
            "grid_auto_columns": null,
            "grid_auto_flow": null,
            "grid_auto_rows": null,
            "grid_column": null,
            "grid_gap": null,
            "grid_row": null,
            "grid_template_areas": null,
            "grid_template_columns": null,
            "grid_template_rows": null,
            "height": null,
            "justify_content": null,
            "justify_items": null,
            "left": null,
            "margin": null,
            "max_height": null,
            "max_width": null,
            "min_height": null,
            "min_width": null,
            "object_fit": null,
            "object_position": null,
            "order": null,
            "overflow": null,
            "overflow_x": null,
            "overflow_y": null,
            "padding": null,
            "right": null,
            "top": null,
            "visibility": null,
            "width": null
          }
        },
        "4ed560641e724c0cb0a461be4edc7825": {
          "model_module": "@jupyter-widgets/controls",
          "model_name": "ProgressStyleModel",
          "model_module_version": "1.5.0",
          "state": {
            "_model_module": "@jupyter-widgets/controls",
            "_model_module_version": "1.5.0",
            "_model_name": "ProgressStyleModel",
            "_view_count": null,
            "_view_module": "@jupyter-widgets/base",
            "_view_module_version": "1.2.0",
            "_view_name": "StyleView",
            "bar_color": null,
            "description_width": ""
          }
        },
        "e5220a903007471b99f743f4dbaf814a": {
          "model_module": "@jupyter-widgets/base",
          "model_name": "LayoutModel",
          "model_module_version": "1.2.0",
          "state": {
            "_model_module": "@jupyter-widgets/base",
            "_model_module_version": "1.2.0",
            "_model_name": "LayoutModel",
            "_view_count": null,
            "_view_module": "@jupyter-widgets/base",
            "_view_module_version": "1.2.0",
            "_view_name": "LayoutView",
            "align_content": null,
            "align_items": null,
            "align_self": null,
            "border": null,
            "bottom": null,
            "display": null,
            "flex": null,
            "flex_flow": null,
            "grid_area": null,
            "grid_auto_columns": null,
            "grid_auto_flow": null,
            "grid_auto_rows": null,
            "grid_column": null,
            "grid_gap": null,
            "grid_row": null,
            "grid_template_areas": null,
            "grid_template_columns": null,
            "grid_template_rows": null,
            "height": null,
            "justify_content": null,
            "justify_items": null,
            "left": null,
            "margin": null,
            "max_height": null,
            "max_width": null,
            "min_height": null,
            "min_width": null,
            "object_fit": null,
            "object_position": null,
            "order": null,
            "overflow": null,
            "overflow_x": null,
            "overflow_y": null,
            "padding": null,
            "right": null,
            "top": null,
            "visibility": null,
            "width": null
          }
        },
        "0a1e9ad12aec4a6c9ca92dce310d1e6c": {
          "model_module": "@jupyter-widgets/controls",
          "model_name": "DescriptionStyleModel",
          "model_module_version": "1.5.0",
          "state": {
            "_model_module": "@jupyter-widgets/controls",
            "_model_module_version": "1.5.0",
            "_model_name": "DescriptionStyleModel",
            "_view_count": null,
            "_view_module": "@jupyter-widgets/base",
            "_view_module_version": "1.2.0",
            "_view_name": "StyleView",
            "description_width": ""
          }
        },
        "a18ce65108154cfeb8b413185de02818": {
          "model_module": "@jupyter-widgets/controls",
          "model_name": "HBoxModel",
          "model_module_version": "1.5.0",
          "state": {
            "_dom_classes": [],
            "_model_module": "@jupyter-widgets/controls",
            "_model_module_version": "1.5.0",
            "_model_name": "HBoxModel",
            "_view_count": null,
            "_view_module": "@jupyter-widgets/controls",
            "_view_module_version": "1.5.0",
            "_view_name": "HBoxView",
            "box_style": "",
            "children": [
              "IPY_MODEL_babaffe2f50e4eb9a3f23be94ef1d193",
              "IPY_MODEL_4a5e6345d06f4395b3bdef86fbf9f9d0",
              "IPY_MODEL_c4e23cf3c21f4495ba631b3e1a89055e"
            ],
            "layout": "IPY_MODEL_d2bceba55c7f4771a385c46b181efdc5"
          }
        },
        "babaffe2f50e4eb9a3f23be94ef1d193": {
          "model_module": "@jupyter-widgets/controls",
          "model_name": "HTMLModel",
          "model_module_version": "1.5.0",
          "state": {
            "_dom_classes": [],
            "_model_module": "@jupyter-widgets/controls",
            "_model_module_version": "1.5.0",
            "_model_name": "HTMLModel",
            "_view_count": null,
            "_view_module": "@jupyter-widgets/controls",
            "_view_module_version": "1.5.0",
            "_view_name": "HTMLView",
            "description": "",
            "description_tooltip": null,
            "layout": "IPY_MODEL_14b45adadaf9473495a4c4a70ca1c6ae",
            "placeholder": "​",
            "style": "IPY_MODEL_3b21a3da5ba54075a6bd2e3d48ffff17",
            "value": "100%"
          }
        },
        "4a5e6345d06f4395b3bdef86fbf9f9d0": {
          "model_module": "@jupyter-widgets/controls",
          "model_name": "FloatProgressModel",
          "model_module_version": "1.5.0",
          "state": {
            "_dom_classes": [],
            "_model_module": "@jupyter-widgets/controls",
            "_model_module_version": "1.5.0",
            "_model_name": "FloatProgressModel",
            "_view_count": null,
            "_view_module": "@jupyter-widgets/controls",
            "_view_module_version": "1.5.0",
            "_view_name": "ProgressView",
            "bar_style": "success",
            "description": "",
            "description_tooltip": null,
            "layout": "IPY_MODEL_528aa41226b94a3c8da7005b4347bf0d",
            "max": 3302,
            "min": 0,
            "orientation": "horizontal",
            "style": "IPY_MODEL_dbd565388cfb4c5284d81c8b69f46a33",
            "value": 3302
          }
        },
        "c4e23cf3c21f4495ba631b3e1a89055e": {
          "model_module": "@jupyter-widgets/controls",
          "model_name": "HTMLModel",
          "model_module_version": "1.5.0",
          "state": {
            "_dom_classes": [],
            "_model_module": "@jupyter-widgets/controls",
            "_model_module_version": "1.5.0",
            "_model_name": "HTMLModel",
            "_view_count": null,
            "_view_module": "@jupyter-widgets/controls",
            "_view_module_version": "1.5.0",
            "_view_name": "HTMLView",
            "description": "",
            "description_tooltip": null,
            "layout": "IPY_MODEL_ec363f5cda69491db018c87feeef78a9",
            "placeholder": "​",
            "style": "IPY_MODEL_348cb7b7d6ec4432b37061d55845cf28",
            "value": " 3302/3302 [00:00&lt;00:00, 4779.16it/s]"
          }
        },
        "d2bceba55c7f4771a385c46b181efdc5": {
          "model_module": "@jupyter-widgets/base",
          "model_name": "LayoutModel",
          "model_module_version": "1.2.0",
          "state": {
            "_model_module": "@jupyter-widgets/base",
            "_model_module_version": "1.2.0",
            "_model_name": "LayoutModel",
            "_view_count": null,
            "_view_module": "@jupyter-widgets/base",
            "_view_module_version": "1.2.0",
            "_view_name": "LayoutView",
            "align_content": null,
            "align_items": null,
            "align_self": null,
            "border": null,
            "bottom": null,
            "display": null,
            "flex": null,
            "flex_flow": null,
            "grid_area": null,
            "grid_auto_columns": null,
            "grid_auto_flow": null,
            "grid_auto_rows": null,
            "grid_column": null,
            "grid_gap": null,
            "grid_row": null,
            "grid_template_areas": null,
            "grid_template_columns": null,
            "grid_template_rows": null,
            "height": null,
            "justify_content": null,
            "justify_items": null,
            "left": null,
            "margin": null,
            "max_height": null,
            "max_width": null,
            "min_height": null,
            "min_width": null,
            "object_fit": null,
            "object_position": null,
            "order": null,
            "overflow": null,
            "overflow_x": null,
            "overflow_y": null,
            "padding": null,
            "right": null,
            "top": null,
            "visibility": null,
            "width": null
          }
        },
        "14b45adadaf9473495a4c4a70ca1c6ae": {
          "model_module": "@jupyter-widgets/base",
          "model_name": "LayoutModel",
          "model_module_version": "1.2.0",
          "state": {
            "_model_module": "@jupyter-widgets/base",
            "_model_module_version": "1.2.0",
            "_model_name": "LayoutModel",
            "_view_count": null,
            "_view_module": "@jupyter-widgets/base",
            "_view_module_version": "1.2.0",
            "_view_name": "LayoutView",
            "align_content": null,
            "align_items": null,
            "align_self": null,
            "border": null,
            "bottom": null,
            "display": null,
            "flex": null,
            "flex_flow": null,
            "grid_area": null,
            "grid_auto_columns": null,
            "grid_auto_flow": null,
            "grid_auto_rows": null,
            "grid_column": null,
            "grid_gap": null,
            "grid_row": null,
            "grid_template_areas": null,
            "grid_template_columns": null,
            "grid_template_rows": null,
            "height": null,
            "justify_content": null,
            "justify_items": null,
            "left": null,
            "margin": null,
            "max_height": null,
            "max_width": null,
            "min_height": null,
            "min_width": null,
            "object_fit": null,
            "object_position": null,
            "order": null,
            "overflow": null,
            "overflow_x": null,
            "overflow_y": null,
            "padding": null,
            "right": null,
            "top": null,
            "visibility": null,
            "width": null
          }
        },
        "3b21a3da5ba54075a6bd2e3d48ffff17": {
          "model_module": "@jupyter-widgets/controls",
          "model_name": "DescriptionStyleModel",
          "model_module_version": "1.5.0",
          "state": {
            "_model_module": "@jupyter-widgets/controls",
            "_model_module_version": "1.5.0",
            "_model_name": "DescriptionStyleModel",
            "_view_count": null,
            "_view_module": "@jupyter-widgets/base",
            "_view_module_version": "1.2.0",
            "_view_name": "StyleView",
            "description_width": ""
          }
        },
        "528aa41226b94a3c8da7005b4347bf0d": {
          "model_module": "@jupyter-widgets/base",
          "model_name": "LayoutModel",
          "model_module_version": "1.2.0",
          "state": {
            "_model_module": "@jupyter-widgets/base",
            "_model_module_version": "1.2.0",
            "_model_name": "LayoutModel",
            "_view_count": null,
            "_view_module": "@jupyter-widgets/base",
            "_view_module_version": "1.2.0",
            "_view_name": "LayoutView",
            "align_content": null,
            "align_items": null,
            "align_self": null,
            "border": null,
            "bottom": null,
            "display": null,
            "flex": null,
            "flex_flow": null,
            "grid_area": null,
            "grid_auto_columns": null,
            "grid_auto_flow": null,
            "grid_auto_rows": null,
            "grid_column": null,
            "grid_gap": null,
            "grid_row": null,
            "grid_template_areas": null,
            "grid_template_columns": null,
            "grid_template_rows": null,
            "height": null,
            "justify_content": null,
            "justify_items": null,
            "left": null,
            "margin": null,
            "max_height": null,
            "max_width": null,
            "min_height": null,
            "min_width": null,
            "object_fit": null,
            "object_position": null,
            "order": null,
            "overflow": null,
            "overflow_x": null,
            "overflow_y": null,
            "padding": null,
            "right": null,
            "top": null,
            "visibility": null,
            "width": null
          }
        },
        "dbd565388cfb4c5284d81c8b69f46a33": {
          "model_module": "@jupyter-widgets/controls",
          "model_name": "ProgressStyleModel",
          "model_module_version": "1.5.0",
          "state": {
            "_model_module": "@jupyter-widgets/controls",
            "_model_module_version": "1.5.0",
            "_model_name": "ProgressStyleModel",
            "_view_count": null,
            "_view_module": "@jupyter-widgets/base",
            "_view_module_version": "1.2.0",
            "_view_name": "StyleView",
            "bar_color": null,
            "description_width": ""
          }
        },
        "ec363f5cda69491db018c87feeef78a9": {
          "model_module": "@jupyter-widgets/base",
          "model_name": "LayoutModel",
          "model_module_version": "1.2.0",
          "state": {
            "_model_module": "@jupyter-widgets/base",
            "_model_module_version": "1.2.0",
            "_model_name": "LayoutModel",
            "_view_count": null,
            "_view_module": "@jupyter-widgets/base",
            "_view_module_version": "1.2.0",
            "_view_name": "LayoutView",
            "align_content": null,
            "align_items": null,
            "align_self": null,
            "border": null,
            "bottom": null,
            "display": null,
            "flex": null,
            "flex_flow": null,
            "grid_area": null,
            "grid_auto_columns": null,
            "grid_auto_flow": null,
            "grid_auto_rows": null,
            "grid_column": null,
            "grid_gap": null,
            "grid_row": null,
            "grid_template_areas": null,
            "grid_template_columns": null,
            "grid_template_rows": null,
            "height": null,
            "justify_content": null,
            "justify_items": null,
            "left": null,
            "margin": null,
            "max_height": null,
            "max_width": null,
            "min_height": null,
            "min_width": null,
            "object_fit": null,
            "object_position": null,
            "order": null,
            "overflow": null,
            "overflow_x": null,
            "overflow_y": null,
            "padding": null,
            "right": null,
            "top": null,
            "visibility": null,
            "width": null
          }
        },
        "348cb7b7d6ec4432b37061d55845cf28": {
          "model_module": "@jupyter-widgets/controls",
          "model_name": "DescriptionStyleModel",
          "model_module_version": "1.5.0",
          "state": {
            "_model_module": "@jupyter-widgets/controls",
            "_model_module_version": "1.5.0",
            "_model_name": "DescriptionStyleModel",
            "_view_count": null,
            "_view_module": "@jupyter-widgets/base",
            "_view_module_version": "1.2.0",
            "_view_name": "StyleView",
            "description_width": ""
          }
        },
        "0e4d6edeb3fd467b988c327120708ed6": {
          "model_module": "@jupyter-widgets/controls",
          "model_name": "HBoxModel",
          "model_module_version": "1.5.0",
          "state": {
            "_dom_classes": [],
            "_model_module": "@jupyter-widgets/controls",
            "_model_module_version": "1.5.0",
            "_model_name": "HBoxModel",
            "_view_count": null,
            "_view_module": "@jupyter-widgets/controls",
            "_view_module_version": "1.5.0",
            "_view_name": "HBoxView",
            "box_style": "",
            "children": [
              "IPY_MODEL_39d31184babc49af8b92c56e27abbad2",
              "IPY_MODEL_6eed6a39b0794866a0357a4fff9707bd",
              "IPY_MODEL_05513b819f5949cc992e82a31cc87725"
            ],
            "layout": "IPY_MODEL_c6d84a4baf75490896fdfbc478bc4e32"
          }
        },
        "39d31184babc49af8b92c56e27abbad2": {
          "model_module": "@jupyter-widgets/controls",
          "model_name": "HTMLModel",
          "model_module_version": "1.5.0",
          "state": {
            "_dom_classes": [],
            "_model_module": "@jupyter-widgets/controls",
            "_model_module_version": "1.5.0",
            "_model_name": "HTMLModel",
            "_view_count": null,
            "_view_module": "@jupyter-widgets/controls",
            "_view_module_version": "1.5.0",
            "_view_name": "HTMLView",
            "description": "",
            "description_tooltip": null,
            "layout": "IPY_MODEL_52bf8e93e3214d89a538b9a21822fa85",
            "placeholder": "​",
            "style": "IPY_MODEL_4fdba83c042f4669a2d3b06258afeb58",
            "value": "100%"
          }
        },
        "6eed6a39b0794866a0357a4fff9707bd": {
          "model_module": "@jupyter-widgets/controls",
          "model_name": "FloatProgressModel",
          "model_module_version": "1.5.0",
          "state": {
            "_dom_classes": [],
            "_model_module": "@jupyter-widgets/controls",
            "_model_module_version": "1.5.0",
            "_model_name": "FloatProgressModel",
            "_view_count": null,
            "_view_module": "@jupyter-widgets/controls",
            "_view_module_version": "1.5.0",
            "_view_name": "ProgressView",
            "bar_style": "success",
            "description": "",
            "description_tooltip": null,
            "layout": "IPY_MODEL_a0830dcec73a4cde96d5de3b616c7511",
            "max": 57,
            "min": 0,
            "orientation": "horizontal",
            "style": "IPY_MODEL_8a2e204426bd4a219a1cd4c97be866ba",
            "value": 57
          }
        },
        "05513b819f5949cc992e82a31cc87725": {
          "model_module": "@jupyter-widgets/controls",
          "model_name": "HTMLModel",
          "model_module_version": "1.5.0",
          "state": {
            "_dom_classes": [],
            "_model_module": "@jupyter-widgets/controls",
            "_model_module_version": "1.5.0",
            "_model_name": "HTMLModel",
            "_view_count": null,
            "_view_module": "@jupyter-widgets/controls",
            "_view_module_version": "1.5.0",
            "_view_name": "HTMLView",
            "description": "",
            "description_tooltip": null,
            "layout": "IPY_MODEL_aeb1098fd7804836b2884f6902699018",
            "placeholder": "​",
            "style": "IPY_MODEL_3f34bcc4446143e1b80048262bcb58b9",
            "value": " 57/57 [00:00&lt;00:00, 1115.36it/s]"
          }
        },
        "c6d84a4baf75490896fdfbc478bc4e32": {
          "model_module": "@jupyter-widgets/base",
          "model_name": "LayoutModel",
          "model_module_version": "1.2.0",
          "state": {
            "_model_module": "@jupyter-widgets/base",
            "_model_module_version": "1.2.0",
            "_model_name": "LayoutModel",
            "_view_count": null,
            "_view_module": "@jupyter-widgets/base",
            "_view_module_version": "1.2.0",
            "_view_name": "LayoutView",
            "align_content": null,
            "align_items": null,
            "align_self": null,
            "border": null,
            "bottom": null,
            "display": null,
            "flex": null,
            "flex_flow": null,
            "grid_area": null,
            "grid_auto_columns": null,
            "grid_auto_flow": null,
            "grid_auto_rows": null,
            "grid_column": null,
            "grid_gap": null,
            "grid_row": null,
            "grid_template_areas": null,
            "grid_template_columns": null,
            "grid_template_rows": null,
            "height": null,
            "justify_content": null,
            "justify_items": null,
            "left": null,
            "margin": null,
            "max_height": null,
            "max_width": null,
            "min_height": null,
            "min_width": null,
            "object_fit": null,
            "object_position": null,
            "order": null,
            "overflow": null,
            "overflow_x": null,
            "overflow_y": null,
            "padding": null,
            "right": null,
            "top": null,
            "visibility": null,
            "width": null
          }
        },
        "52bf8e93e3214d89a538b9a21822fa85": {
          "model_module": "@jupyter-widgets/base",
          "model_name": "LayoutModel",
          "model_module_version": "1.2.0",
          "state": {
            "_model_module": "@jupyter-widgets/base",
            "_model_module_version": "1.2.0",
            "_model_name": "LayoutModel",
            "_view_count": null,
            "_view_module": "@jupyter-widgets/base",
            "_view_module_version": "1.2.0",
            "_view_name": "LayoutView",
            "align_content": null,
            "align_items": null,
            "align_self": null,
            "border": null,
            "bottom": null,
            "display": null,
            "flex": null,
            "flex_flow": null,
            "grid_area": null,
            "grid_auto_columns": null,
            "grid_auto_flow": null,
            "grid_auto_rows": null,
            "grid_column": null,
            "grid_gap": null,
            "grid_row": null,
            "grid_template_areas": null,
            "grid_template_columns": null,
            "grid_template_rows": null,
            "height": null,
            "justify_content": null,
            "justify_items": null,
            "left": null,
            "margin": null,
            "max_height": null,
            "max_width": null,
            "min_height": null,
            "min_width": null,
            "object_fit": null,
            "object_position": null,
            "order": null,
            "overflow": null,
            "overflow_x": null,
            "overflow_y": null,
            "padding": null,
            "right": null,
            "top": null,
            "visibility": null,
            "width": null
          }
        },
        "4fdba83c042f4669a2d3b06258afeb58": {
          "model_module": "@jupyter-widgets/controls",
          "model_name": "DescriptionStyleModel",
          "model_module_version": "1.5.0",
          "state": {
            "_model_module": "@jupyter-widgets/controls",
            "_model_module_version": "1.5.0",
            "_model_name": "DescriptionStyleModel",
            "_view_count": null,
            "_view_module": "@jupyter-widgets/base",
            "_view_module_version": "1.2.0",
            "_view_name": "StyleView",
            "description_width": ""
          }
        },
        "a0830dcec73a4cde96d5de3b616c7511": {
          "model_module": "@jupyter-widgets/base",
          "model_name": "LayoutModel",
          "model_module_version": "1.2.0",
          "state": {
            "_model_module": "@jupyter-widgets/base",
            "_model_module_version": "1.2.0",
            "_model_name": "LayoutModel",
            "_view_count": null,
            "_view_module": "@jupyter-widgets/base",
            "_view_module_version": "1.2.0",
            "_view_name": "LayoutView",
            "align_content": null,
            "align_items": null,
            "align_self": null,
            "border": null,
            "bottom": null,
            "display": null,
            "flex": null,
            "flex_flow": null,
            "grid_area": null,
            "grid_auto_columns": null,
            "grid_auto_flow": null,
            "grid_auto_rows": null,
            "grid_column": null,
            "grid_gap": null,
            "grid_row": null,
            "grid_template_areas": null,
            "grid_template_columns": null,
            "grid_template_rows": null,
            "height": null,
            "justify_content": null,
            "justify_items": null,
            "left": null,
            "margin": null,
            "max_height": null,
            "max_width": null,
            "min_height": null,
            "min_width": null,
            "object_fit": null,
            "object_position": null,
            "order": null,
            "overflow": null,
            "overflow_x": null,
            "overflow_y": null,
            "padding": null,
            "right": null,
            "top": null,
            "visibility": null,
            "width": null
          }
        },
        "8a2e204426bd4a219a1cd4c97be866ba": {
          "model_module": "@jupyter-widgets/controls",
          "model_name": "ProgressStyleModel",
          "model_module_version": "1.5.0",
          "state": {
            "_model_module": "@jupyter-widgets/controls",
            "_model_module_version": "1.5.0",
            "_model_name": "ProgressStyleModel",
            "_view_count": null,
            "_view_module": "@jupyter-widgets/base",
            "_view_module_version": "1.2.0",
            "_view_name": "StyleView",
            "bar_color": null,
            "description_width": ""
          }
        },
        "aeb1098fd7804836b2884f6902699018": {
          "model_module": "@jupyter-widgets/base",
          "model_name": "LayoutModel",
          "model_module_version": "1.2.0",
          "state": {
            "_model_module": "@jupyter-widgets/base",
            "_model_module_version": "1.2.0",
            "_model_name": "LayoutModel",
            "_view_count": null,
            "_view_module": "@jupyter-widgets/base",
            "_view_module_version": "1.2.0",
            "_view_name": "LayoutView",
            "align_content": null,
            "align_items": null,
            "align_self": null,
            "border": null,
            "bottom": null,
            "display": null,
            "flex": null,
            "flex_flow": null,
            "grid_area": null,
            "grid_auto_columns": null,
            "grid_auto_flow": null,
            "grid_auto_rows": null,
            "grid_column": null,
            "grid_gap": null,
            "grid_row": null,
            "grid_template_areas": null,
            "grid_template_columns": null,
            "grid_template_rows": null,
            "height": null,
            "justify_content": null,
            "justify_items": null,
            "left": null,
            "margin": null,
            "max_height": null,
            "max_width": null,
            "min_height": null,
            "min_width": null,
            "object_fit": null,
            "object_position": null,
            "order": null,
            "overflow": null,
            "overflow_x": null,
            "overflow_y": null,
            "padding": null,
            "right": null,
            "top": null,
            "visibility": null,
            "width": null
          }
        },
        "3f34bcc4446143e1b80048262bcb58b9": {
          "model_module": "@jupyter-widgets/controls",
          "model_name": "DescriptionStyleModel",
          "model_module_version": "1.5.0",
          "state": {
            "_model_module": "@jupyter-widgets/controls",
            "_model_module_version": "1.5.0",
            "_model_name": "DescriptionStyleModel",
            "_view_count": null,
            "_view_module": "@jupyter-widgets/base",
            "_view_module_version": "1.2.0",
            "_view_name": "StyleView",
            "description_width": ""
          }
        }
      }
    }
  },
  "nbformat": 4,
  "nbformat_minor": 0
}